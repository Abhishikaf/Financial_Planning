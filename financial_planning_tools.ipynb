{
 "cells": [
  {
   "cell_type": "markdown",
   "metadata": {},
   "source": [
    "# Financial Planning with APIs and Simulations\n",
    "\n",
    "In this Challenge, you’ll create two financial analysis tools by using a single Jupyter notebook:\n",
    "\n",
    "Part 1: A financial planner for emergencies. The members will be able to use this tool to visualize their current savings. The members can then determine if they have enough reserves for an emergency fund.\n",
    "\n",
    "Part 2: A financial planner for retirement. This tool will forecast the performance of their retirement portfolio in 30 years. To do this, the tool will make an Alpaca API call via the Alpaca SDK to get historical price data for use in Monte Carlo simulations.\n",
    "\n",
    "You’ll use the information from the Monte Carlo simulation to answer questions about the portfolio in your Jupyter notebook.\n",
    "\n"
   ]
  },
  {
   "cell_type": "code",
   "execution_count": 2,
   "metadata": {},
   "outputs": [],
   "source": [
    "# Import the required libraries and dependencies\n",
    "import os\n",
    "import requests\n",
    "import json\n",
    "import pandas as pd\n",
    "from dotenv import load_dotenv\n",
    "import alpaca_trade_api as tradeapi\n",
    "from MCForecastTools import MCSimulation\n",
    "\n",
    "%matplotlib inline"
   ]
  },
  {
   "cell_type": "code",
   "execution_count": 3,
   "metadata": {},
   "outputs": [
    {
     "data": {
      "text/plain": [
       "True"
      ]
     },
     "execution_count": 3,
     "metadata": {},
     "output_type": "execute_result"
    }
   ],
   "source": [
    "# Load the environment variables from the .env file\n",
    "#by calling the load_dotenv function\n",
    "load_dotenv()"
   ]
  },
  {
   "cell_type": "markdown",
   "metadata": {},
   "source": [
    "## Part 1: Create a Financial Planner for Emergencies"
   ]
  },
  {
   "cell_type": "markdown",
   "metadata": {},
   "source": [
    "### Evaluate the Cryptocurrency Wallet by Using the Requests Library\n",
    "\n",
    "In this section, you’ll determine the current value of a member’s cryptocurrency wallet. You’ll collect the current prices for the Bitcoin and Ethereum cryptocurrencies by using the Python Requests library. For the prototype, you’ll assume that the member holds the 1.2 Bitcoins (BTC) and 5.3 Ethereum coins (ETH). To do all this, complete the following steps:\n",
    "\n",
    "1. Create a variable named `monthly_income`, and set its value to `12000`.\n",
    "\n",
    "2. Use the Requests library to get the current price (in US dollars) of Bitcoin (BTC) and Ethereum (ETH) by using the API endpoints that the starter code supplies.\n",
    "\n",
    "3. Navigate the JSON response object to access the current price of each coin, and store each in a variable.\n",
    "\n",
    "    > **Hint** Note the specific identifier for each cryptocurrency in the API JSON response. The Bitcoin identifier is `1`, and the Ethereum identifier is `1027`.\n",
    "\n",
    "4. Calculate the value, in US dollars, of the current amount of each cryptocurrency and of the entire cryptocurrency wallet.\n",
    "\n"
   ]
  },
  {
   "cell_type": "code",
   "execution_count": 4,
   "metadata": {},
   "outputs": [],
   "source": [
    "# The current number of coins for each cryptocurrency asset held in the portfolio.\n",
    "btc_coins = 1.2\n",
    "eth_coins = 5.3"
   ]
  },
  {
   "cell_type": "markdown",
   "metadata": {},
   "source": [
    "#### Step 1: Create a variable named `monthly_income`, and set its value to `12000`."
   ]
  },
  {
   "cell_type": "code",
   "execution_count": 5,
   "metadata": {},
   "outputs": [],
   "source": [
    "# The monthly amount for the member's household income\n",
    "monthly_income = 12000\n"
   ]
  },
  {
   "cell_type": "markdown",
   "metadata": {},
   "source": [
    "#### Review the endpoint URLs for the API calls to Free Crypto API in order to get the current pricing information for both BTC and ETH."
   ]
  },
  {
   "cell_type": "code",
   "execution_count": 6,
   "metadata": {},
   "outputs": [],
   "source": [
    "# The Free Crypto API Call endpoint URLs for the held cryptocurrency assets\n",
    "btc_url = \"https://api.alternative.me/v2/ticker/Bitcoin/?convert=USD\"\n",
    "eth_url = \"https://api.alternative.me/v2/ticker/Ethereum/?convert=USD\""
   ]
  },
  {
   "cell_type": "markdown",
   "metadata": {},
   "source": [
    "#### Step 2. Use the Requests library to get the current price (in US dollars) of Bitcoin (BTC) and Ethereum (ETH) by using the API endpoints that the starter code supplied."
   ]
  },
  {
   "cell_type": "code",
   "execution_count": 7,
   "metadata": {},
   "outputs": [
    {
     "name": "stdout",
     "output_type": "stream",
     "text": [
      "{\n",
      "    \"data\": {\n",
      "        \"1\": {\n",
      "            \"circulating_supply\": 18855556,\n",
      "            \"id\": 1,\n",
      "            \"last_updated\": 1635313397,\n",
      "            \"max_supply\": 21000000,\n",
      "            \"name\": \"Bitcoin\",\n",
      "            \"quotes\": {\n",
      "                \"USD\": {\n",
      "                    \"market_cap\": 1160089160439,\n",
      "                    \"percent_change_1h\": -1.05216193955638,\n",
      "                    \"percent_change_24h\": -2.58456358009944,\n",
      "                    \"percent_change_7d\": -5.38894600191328,\n",
      "                    \"percentage_change_1h\": -1.05216193955638,\n",
      "                    \"percentage_change_24h\": -2.58456358009944,\n",
      "                    \"percentage_change_7d\": -5.38894600191328,\n",
      "                    \"price\": 61041.0,\n",
      "                    \"volume_24h\": 36325691582\n",
      "                }\n",
      "            },\n",
      "            \"rank\": 1,\n",
      "            \"symbol\": \"BTC\",\n",
      "            \"total_supply\": 18855556,\n",
      "            \"website_slug\": \"bitcoin\"\n",
      "        }\n",
      "    },\n",
      "    \"metadata\": {\n",
      "        \"error\": null,\n",
      "        \"num_cryptocurrencies\": 3105,\n",
      "        \"timestamp\": 1635313397\n",
      "    }\n",
      "}\n"
     ]
    }
   ],
   "source": [
    "# Using the Python requests library, make an API call to access the current price of BTC\n",
    "btc_response = requests.get(btc_url).json()\n",
    "\n",
    "# Use the json.dumps function to review the response data from the API call\n",
    "# Use the indent and sort_keys parameters to make the response object readable\n",
    "print(json.dumps(btc_response, indent = 4, sort_keys = True))\n"
   ]
  },
  {
   "cell_type": "code",
   "execution_count": null,
   "metadata": {},
   "outputs": [],
   "source": []
  },
  {
   "cell_type": "code",
   "execution_count": 8,
   "metadata": {},
   "outputs": [
    {
     "name": "stdout",
     "output_type": "stream",
     "text": [
      "{\n",
      "    \"data\": {\n",
      "        \"1027\": {\n",
      "            \"circulating_supply\": 118093320,\n",
      "            \"id\": 1027,\n",
      "            \"last_updated\": 1635313434,\n",
      "            \"max_supply\": 0,\n",
      "            \"name\": \"Ethereum\",\n",
      "            \"quotes\": {\n",
      "                \"USD\": {\n",
      "                    \"market_cap\": 506837401149,\n",
      "                    \"percent_change_1h\": -0.667299674340114,\n",
      "                    \"percent_change_24h\": 1.18862411007983,\n",
      "                    \"percent_change_7d\": 9.94447288236394,\n",
      "                    \"percentage_change_1h\": -0.667299674340114,\n",
      "                    \"percentage_change_24h\": 1.18862411007983,\n",
      "                    \"percentage_change_7d\": 9.94447288236394,\n",
      "                    \"price\": 4270.89,\n",
      "                    \"volume_24h\": 22844865429\n",
      "                }\n",
      "            },\n",
      "            \"rank\": 2,\n",
      "            \"symbol\": \"ETH\",\n",
      "            \"total_supply\": 118093320,\n",
      "            \"website_slug\": \"ethereum\"\n",
      "        }\n",
      "    },\n",
      "    \"metadata\": {\n",
      "        \"error\": null,\n",
      "        \"num_cryptocurrencies\": 3105,\n",
      "        \"timestamp\": 1635313434\n",
      "    }\n",
      "}\n"
     ]
    }
   ],
   "source": [
    "# Using the Python requests library, make an API call to access the current price ETH\n",
    "eth_response = requests.get(eth_url).json()\n",
    "\n",
    "# Use the json.dumps function to review the response data from the API call\n",
    "# Use the indent and sort_keys parameters to make the response object readable\n",
    "print(json.dumps(eth_response, indent=4, sort_keys=True))\n"
   ]
  },
  {
   "cell_type": "markdown",
   "metadata": {},
   "source": [
    "#### Step 3: Navigate the JSON response object to access the current price of each coin, and store each in a variable."
   ]
  },
  {
   "cell_type": "code",
   "execution_count": 9,
   "metadata": {},
   "outputs": [
    {
     "name": "stdout",
     "output_type": "stream",
     "text": [
      "The current price of Bitcoin is $61041.0\n"
     ]
    }
   ],
   "source": [
    "# Navigate the BTC response object to access the current price of BTC\n",
    "btc_price = btc_response['data']['1']['quotes']['USD']['price']\n",
    "\n",
    "# Print the current price of BTC\n",
    "print(f\"The current price of Bitcoin is ${btc_price}\")\n"
   ]
  },
  {
   "cell_type": "code",
   "execution_count": 10,
   "metadata": {},
   "outputs": [
    {
     "name": "stdout",
     "output_type": "stream",
     "text": [
      "The current price of Ethyreum if $4270.89\n"
     ]
    }
   ],
   "source": [
    "# Navigate the BTC response object to access the current price of ETH\n",
    "eth_price =eth_response['data']['1027']['quotes']['USD']['price']\n",
    "\n",
    "# Print the current price of ETH\n",
    "print(f\"The current price of Ethyreum if ${eth_price}\")\n"
   ]
  },
  {
   "cell_type": "markdown",
   "metadata": {},
   "source": [
    "### Step 4: Calculate the value, in US dollars, of the current amount of each cryptocurrency and of the entire cryptocurrency wallet."
   ]
  },
  {
   "cell_type": "code",
   "execution_count": 11,
   "metadata": {},
   "outputs": [
    {
     "name": "stdout",
     "output_type": "stream",
     "text": [
      "Current Value of your Bitcoin holdings: $73249.2\n"
     ]
    }
   ],
   "source": [
    "# Compute the current value of the BTC holding \n",
    "btc_value = btc_coins * btc_price\n",
    "\n",
    "# Print current value of your holding in BTC\n",
    "print(f\"Current Value of your Bitcoin holdings: ${btc_value}\")\n"
   ]
  },
  {
   "cell_type": "code",
   "execution_count": 12,
   "metadata": {},
   "outputs": [
    {
     "name": "stdout",
     "output_type": "stream",
     "text": [
      "Current Value of your Ethyreum holdings: $22635.717\n"
     ]
    }
   ],
   "source": [
    "# Compute the current value of the ETH holding \n",
    "eth_value = eth_coins * eth_price\n",
    "\n",
    "# Print current value of your holding in ETH\n",
    "print(f\"Current Value of your Ethyreum holdings: ${eth_value}\")\n"
   ]
  },
  {
   "cell_type": "code",
   "execution_count": 13,
   "metadata": {},
   "outputs": [
    {
     "name": "stdout",
     "output_type": "stream",
     "text": [
      "Current Cryptocurrency wallet balance is: $95884.917\n"
     ]
    }
   ],
   "source": [
    "# Compute the total value of the cryptocurrency wallet\n",
    "# Add the value of the BTC holding to the value of the ETH holding\n",
    "total_crypto_wallet = btc_value + eth_value\n",
    "\n",
    "# Print current cryptocurrency wallet balance\n",
    "print(f\"Current Cryptocurrency wallet balance is: ${total_crypto_wallet}\")\n"
   ]
  },
  {
   "cell_type": "markdown",
   "metadata": {},
   "source": [
    "### Evaluate the Stock and Bond Holdings by Using the Alpaca SDK\n",
    "\n",
    "In this section, you’ll determine the current value of a member’s stock and bond holdings. You’ll make an API call to Alpaca via the Alpaca SDK to get the current closing prices of the SPDR S&P 500 ETF Trust (ticker: SPY) and of the iShares Core US Aggregate Bond ETF (ticker: AGG). For the prototype, assume that the member holds 110 shares of SPY, which represents the stock portion of their portfolio, and 200 shares of AGG, which represents the bond portion. To do all this, complete the following steps:\n",
    "\n",
    "1. In the `Starter_Code` folder, create an environment file (`.env`) to store the values of your Alpaca API key and Alpaca secret key.\n",
    "\n",
    "2. Set the variables for the Alpaca API and secret keys. Using the Alpaca SDK, create the Alpaca `tradeapi.REST` object. In this object, include the parameters for the Alpaca API key, the secret key, and the version number.\n",
    "\n",
    "3. Set the following parameters for the Alpaca API call:\n",
    "\n",
    "    - `tickers`: Use the tickers for the member’s stock and bond holdings.\n",
    "\n",
    "    - `timeframe`: Use a time frame of one day.\n",
    "\n",
    "    - `start_date` and `end_date`: Use the same date for these parameters, and format them with the date of the previous weekday (or `2020-08-07`). This is because you want the one closing price for the most-recent trading day.\n",
    "\n",
    "4. Get the current closing prices for `SPY` and `AGG` by using the Alpaca `get_barset` function. Format the response as a Pandas DataFrame by including the `df` property at the end of the `get_barset` function.\n",
    "\n",
    "5. Navigating the Alpaca response DataFrame, select the `SPY` and `AGG` closing prices, and store them as variables.\n",
    "\n",
    "6. Calculate the value, in US dollars, of the current amount of shares in each of the stock and bond portions of the portfolio, and print the results.\n"
   ]
  },
  {
   "cell_type": "markdown",
   "metadata": {},
   "source": [
    "#### Review the total number of shares held in both (SPY) and (AGG)."
   ]
  },
  {
   "cell_type": "code",
   "execution_count": 14,
   "metadata": {},
   "outputs": [],
   "source": [
    "# Current amount of shares held in both the stock (SPY) and bond (AGG) portion of the portfolio.\n",
    "spy_shares = 110\n",
    "agg_shares = 200\n"
   ]
  },
  {
   "cell_type": "markdown",
   "metadata": {},
   "source": [
    "#### Step 1: In the `Starter_Code` folder, create an environment file (`.env`) to store the values of your Alpaca API key and Alpaca secret key."
   ]
  },
  {
   "cell_type": "markdown",
   "metadata": {},
   "source": [
    "#### Step 2: Set the variables for the Alpaca API and secret keys. Using the Alpaca SDK, create the Alpaca `tradeapi.REST` object. In this object, include the parameters for the Alpaca API key, the secret key, and the version number."
   ]
  },
  {
   "cell_type": "code",
   "execution_count": 15,
   "metadata": {},
   "outputs": [],
   "source": [
    "# Set the variables for the Alpaca API and secret keys\n",
    "alpaca_api_key = os.getenv(\"ALPACA_API_KEY\")\n",
    "alpaca_secret_key = os.getenv(\"ALPACA_SECRET_KEY\")\n",
    "\n",
    "# Create the Alpaca tradeapi.REST object\n",
    "alpaca = tradeapi.REST(alpaca_api_key,\n",
    "                      alpaca_secret_key,\n",
    "                      api_version = \"v2\")\n"
   ]
  },
  {
   "cell_type": "markdown",
   "metadata": {},
   "source": [
    "#### Step 3: Set the following parameters for the Alpaca API call:\n",
    "\n",
    "- `tickers`: Use the tickers for the member’s stock and bond holdings.\n",
    "\n",
    "- `timeframe`: Use a time frame of one day.\n",
    "\n",
    "- `start_date` and `end_date`: Use the same date for these parameters, and format them with the date of the previous weekday (or `2020-08-07`). This is because you want the one closing price for the most-recent trading day.\n"
   ]
  },
  {
   "cell_type": "code",
   "execution_count": 16,
   "metadata": {},
   "outputs": [],
   "source": [
    "# Set the tickers for both the bond and stock portion of the portfolio\n",
    "tickers = [\"SPY\",\"AGG\"]\n",
    "\n",
    "# Set timeframe to 1D \n",
    "timeframe = '1D'\n",
    "\n",
    "# Format current date as ISO format\n",
    "# Set both the start and end date at the date of your prior weekday \n",
    "# This will give you the closing price of the previous trading day\n",
    "# Alternatively you can use a start and end date of 2020-08-07\n",
    "start_date = pd.Timestamp(\"2021-10-25\", tz = \"America/New_York\").isoformat()\n",
    "end_date = pd.Timestamp(\"2021-10-25\", tz = \"America/New_York\").isoformat()\n"
   ]
  },
  {
   "cell_type": "markdown",
   "metadata": {},
   "source": [
    "#### Step 4: Get the current closing prices for `SPY` and `AGG` by using the Alpaca `get_barset` function. Format the response as a Pandas DataFrame by including the `df` property at the end of the `get_barset` function."
   ]
  },
  {
   "cell_type": "code",
   "execution_count": 17,
   "metadata": {},
   "outputs": [
    {
     "data": {
      "text/html": [
       "<div>\n",
       "<style scoped>\n",
       "    .dataframe tbody tr th:only-of-type {\n",
       "        vertical-align: middle;\n",
       "    }\n",
       "\n",
       "    .dataframe tbody tr th {\n",
       "        vertical-align: top;\n",
       "    }\n",
       "\n",
       "    .dataframe thead tr th {\n",
       "        text-align: left;\n",
       "    }\n",
       "\n",
       "    .dataframe thead tr:last-of-type th {\n",
       "        text-align: right;\n",
       "    }\n",
       "</style>\n",
       "<table border=\"1\" class=\"dataframe\">\n",
       "  <thead>\n",
       "    <tr>\n",
       "      <th></th>\n",
       "      <th colspan=\"5\" halign=\"left\">AGG</th>\n",
       "      <th colspan=\"5\" halign=\"left\">SPY</th>\n",
       "    </tr>\n",
       "    <tr>\n",
       "      <th></th>\n",
       "      <th>open</th>\n",
       "      <th>high</th>\n",
       "      <th>low</th>\n",
       "      <th>close</th>\n",
       "      <th>volume</th>\n",
       "      <th>open</th>\n",
       "      <th>high</th>\n",
       "      <th>low</th>\n",
       "      <th>close</th>\n",
       "      <th>volume</th>\n",
       "    </tr>\n",
       "    <tr>\n",
       "      <th>time</th>\n",
       "      <th></th>\n",
       "      <th></th>\n",
       "      <th></th>\n",
       "      <th></th>\n",
       "      <th></th>\n",
       "      <th></th>\n",
       "      <th></th>\n",
       "      <th></th>\n",
       "      <th></th>\n",
       "      <th></th>\n",
       "    </tr>\n",
       "  </thead>\n",
       "  <tbody>\n",
       "    <tr>\n",
       "      <th>2021-10-25 00:00:00-04:00</th>\n",
       "      <td>114.06</td>\n",
       "      <td>114.27</td>\n",
       "      <td>114.06</td>\n",
       "      <td>114.17</td>\n",
       "      <td>7088133</td>\n",
       "      <td>454.28</td>\n",
       "      <td>455.9</td>\n",
       "      <td>452.39</td>\n",
       "      <td>455.48</td>\n",
       "      <td>37918548</td>\n",
       "    </tr>\n",
       "  </tbody>\n",
       "</table>\n",
       "</div>"
      ],
      "text/plain": [
       "                              AGG                                      SPY  \\\n",
       "                             open    high     low   close   volume    open   \n",
       "time                                                                         \n",
       "2021-10-25 00:00:00-04:00  114.06  114.27  114.06  114.17  7088133  454.28   \n",
       "\n",
       "                                                            \n",
       "                            high     low   close    volume  \n",
       "time                                                        \n",
       "2021-10-25 00:00:00-04:00  455.9  452.39  455.48  37918548  "
      ]
     },
     "execution_count": 17,
     "metadata": {},
     "output_type": "execute_result"
    }
   ],
   "source": [
    "# Use the Alpaca get_barset function to get current closing prices the portfolio\n",
    "# Be sure to set the `df` property after the function to format the response object as a DataFrame\n",
    "prices_df = alpaca.get_barset(tickers, timeframe, start = start_date, end = end_date).df\n",
    "\n",
    "# Review the first 5 rows of the Alpaca DataFrame\n",
    "prices_df.head()\n"
   ]
  },
  {
   "cell_type": "markdown",
   "metadata": {},
   "source": [
    "#### Step 5: Navigating the Alpaca response DataFrame, select the `SPY` and `AGG` closing prices, and store them as variables."
   ]
  },
  {
   "cell_type": "code",
   "execution_count": 18,
   "metadata": {},
   "outputs": [
    {
     "data": {
      "text/plain": [
       "114.17"
      ]
     },
     "execution_count": 18,
     "metadata": {},
     "output_type": "execute_result"
    }
   ],
   "source": [
    "# Access the closing price for AGG from the Alpaca DataFrame\n",
    "# Converting the value to a floating point number\n",
    "agg_close_price = float(prices_df['AGG']['close'])\n",
    "\n",
    "# Print the AGG closing price\n",
    "agg_close_price\n"
   ]
  },
  {
   "cell_type": "code",
   "execution_count": 19,
   "metadata": {},
   "outputs": [
    {
     "data": {
      "text/plain": [
       "455.48"
      ]
     },
     "execution_count": 19,
     "metadata": {},
     "output_type": "execute_result"
    }
   ],
   "source": [
    "# Access the closing price for SPY from the Alpaca DataFrame\n",
    "# Converting the value to a floating point number\n",
    "spy_close_price = float(prices_df['SPY']['close'])\n",
    "\n",
    "# Print the SPY closing price\n",
    "spy_close_price\n"
   ]
  },
  {
   "cell_type": "markdown",
   "metadata": {},
   "source": [
    "#### Step 6: Calculate the value, in US dollars, of the current amount of shares in each of the stock and bond portions of the portfolio, and print the results."
   ]
  },
  {
   "cell_type": "code",
   "execution_count": 20,
   "metadata": {},
   "outputs": [
    {
     "name": "stdout",
     "output_type": "stream",
     "text": [
      "Current Value of the bond portfolio: $22834.0\n"
     ]
    }
   ],
   "source": [
    "# Calculate the current value of the bond portion of the portfolio\n",
    "agg_value = agg_shares*agg_close_price\n",
    "\n",
    "# Print the current value of the bond portfolio\n",
    "print(f\"Current Value of the bond portfolio: ${agg_value}\")\n"
   ]
  },
  {
   "cell_type": "code",
   "execution_count": 21,
   "metadata": {},
   "outputs": [
    {
     "name": "stdout",
     "output_type": "stream",
     "text": [
      "Current Value of the stock portfolio: $50102.8\n"
     ]
    }
   ],
   "source": [
    "# Calculate the current value of the stock portion of the portfolio\n",
    "spy_value = spy_shares*spy_close_price\n",
    "\n",
    "# Print the current value of the stock portfolio\n",
    "print(f\"Current Value of the stock portfolio: ${spy_value}\")\n"
   ]
  },
  {
   "cell_type": "code",
   "execution_count": 22,
   "metadata": {},
   "outputs": [
    {
     "name": "stdout",
     "output_type": "stream",
     "text": [
      "Current Value of the stock and bond portion of the portfolio: $72936.8\n"
     ]
    }
   ],
   "source": [
    "# Calculate the total value of the stock and bond portion of the portfolio\n",
    "total_stocks_bonds = agg_value + spy_value\n",
    "\n",
    "# Print the current balance of the stock and bond portion of the portfolio\n",
    "print(f\"Current Value of the stock and bond portion of the portfolio: ${total_stocks_bonds}\")\n"
   ]
  },
  {
   "cell_type": "code",
   "execution_count": 23,
   "metadata": {},
   "outputs": [
    {
     "name": "stdout",
     "output_type": "stream",
     "text": [
      "Total value of the portfolio: $168821.717\n"
     ]
    }
   ],
   "source": [
    "# Calculate the total value of the member's entire savings portfolio\n",
    "# Add the value of the cryptocurrency walled to the value of the total stocks and bonds\n",
    "total_portfolio = total_crypto_wallet + total_stocks_bonds\n",
    "\n",
    "# Print the total vlue of the member's entire savings portfolio\n",
    "print(f\"Total value of the portfolio: ${total_portfolio}\")\n"
   ]
  },
  {
   "cell_type": "markdown",
   "metadata": {},
   "source": [
    "### Evaluate the Emergency Fund\n",
    "\n",
    "In this section, you’ll use the valuations for the cryptocurrency wallet and for the stock and bond portions of the portfolio to determine if the credit union member has enough savings to build an emergency fund into their financial plan. To do this, complete the following steps:\n",
    "\n",
    "1. Create a Python list named `savings_data` that has two elements. The first element contains the total value of the cryptocurrency wallet. The second element contains the total value of the stock and bond portions of the portfolio.\n",
    "\n",
    "2. Use the `savings_data` list to create a Pandas DataFrame named `savings_df`, and then display this DataFrame. The function to create the DataFrame should take the following three parameters:\n",
    "\n",
    "    - `savings_data`: Use the list that you just created.\n",
    "\n",
    "    - `columns`: Set this parameter equal to a Python list with a single value called `amount`.\n",
    "\n",
    "    - `index`: Set this parameter equal to a Python list with the values of `crypto` and `stock/bond`.\n",
    "\n",
    "3. Use the `savings_df` DataFrame to plot a pie chart that visualizes the composition of the member’s portfolio. The y-axis of the pie chart uses `amount`. Be sure to add a title.\n",
    "\n",
    "4. Using Python, determine if the current portfolio has enough to create an emergency fund as part of the member’s financial plan. Ideally, an emergency fund should equal to three times the member’s monthly income. To do this, implement the following steps:\n",
    "\n",
    "    1. Create a variable named `emergency_fund_value`, and set it equal to three times the value of the member’s `monthly_income` of $12000. (You set this earlier in Part 1).\n",
    "\n",
    "    2. Create a series of three if statements to determine if the member’s total portfolio is large enough to fund the emergency portfolio:\n",
    "\n",
    "        1. If the total portfolio value is greater than the emergency fund value, display a message congratulating the member for having enough money in this fund.\n",
    "\n",
    "        2. Else if the total portfolio value is equal to the emergency fund value, display a message congratulating the member on reaching this important financial goal.\n",
    "\n",
    "        3. Else the total portfolio is less than the emergency fund value, so display a message showing how many dollars away the member is from reaching the goal. (Subtract the total portfolio value from the emergency fund value.)\n"
   ]
  },
  {
   "cell_type": "markdown",
   "metadata": {},
   "source": [
    "#### Step 1: Create a Python list named `savings_data` that has two elements. The first element contains the total value of the cryptocurrency wallet. The second element contains the total value of the stock and bond portions of the portfolio."
   ]
  },
  {
   "cell_type": "code",
   "execution_count": 24,
   "metadata": {},
   "outputs": [
    {
     "data": {
      "text/plain": [
       "[95884.917, 72936.8]"
      ]
     },
     "execution_count": 24,
     "metadata": {},
     "output_type": "execute_result"
    }
   ],
   "source": [
    "# Consolidate financial assets data into a Python list\n",
    "savings_data = [total_crypto_wallet, total_stocks_bonds]\n",
    "\n",
    "# Review the Python list savings_data\n",
    "savings_data\n",
    "    "
   ]
  },
  {
   "cell_type": "markdown",
   "metadata": {},
   "source": [
    "#### Step 2: Use the `savings_data` list to create a Pandas DataFrame named `savings_df`, and then display this DataFrame. The function to create the DataFrame should take the following three parameters:\n",
    "\n",
    "- `savings_data`: Use the list that you just created.\n",
    "\n",
    "- `columns`: Set this parameter equal to a Python list with a single value called `amount`.\n",
    "\n",
    "- `index`: Set this parameter equal to a Python list with the values of `crypto` and `stock/bond`.\n"
   ]
  },
  {
   "cell_type": "code",
   "execution_count": 25,
   "metadata": {},
   "outputs": [
    {
     "data": {
      "text/html": [
       "<div>\n",
       "<style scoped>\n",
       "    .dataframe tbody tr th:only-of-type {\n",
       "        vertical-align: middle;\n",
       "    }\n",
       "\n",
       "    .dataframe tbody tr th {\n",
       "        vertical-align: top;\n",
       "    }\n",
       "\n",
       "    .dataframe thead th {\n",
       "        text-align: right;\n",
       "    }\n",
       "</style>\n",
       "<table border=\"1\" class=\"dataframe\">\n",
       "  <thead>\n",
       "    <tr style=\"text-align: right;\">\n",
       "      <th></th>\n",
       "      <th>Amount</th>\n",
       "    </tr>\n",
       "  </thead>\n",
       "  <tbody>\n",
       "    <tr>\n",
       "      <th>Crypto</th>\n",
       "      <td>95884.917</td>\n",
       "    </tr>\n",
       "    <tr>\n",
       "      <th>Stock/Bond</th>\n",
       "      <td>72936.800</td>\n",
       "    </tr>\n",
       "  </tbody>\n",
       "</table>\n",
       "</div>"
      ],
      "text/plain": [
       "               Amount\n",
       "Crypto      95884.917\n",
       "Stock/Bond  72936.800"
      ]
     },
     "metadata": {},
     "output_type": "display_data"
    }
   ],
   "source": [
    "# Create a Pandas DataFrame called savings_df \n",
    "savings_df = pd.DataFrame(savings_data, columns = [\"Amount\"], index = [\"Crypto\", \"Stock/Bond\"])\n",
    "\n",
    "# Display the savings_df DataFrame\n",
    "display(savings_df)\n"
   ]
  },
  {
   "cell_type": "markdown",
   "metadata": {},
   "source": [
    "#### Step 3: Use the `savings_df` DataFrame to plot a pie chart that visualizes the composition of the member’s portfolio. The y-axis of the pie chart uses `amount`. Be sure to add a title."
   ]
  },
  {
   "cell_type": "code",
   "execution_count": 59,
   "metadata": {},
   "outputs": [
    {
     "data": {
      "text/plain": [
       "<AxesSubplot:title={'center':\"Member's portfolio composition - \"}, ylabel='Amount'>"
      ]
     },
     "execution_count": 59,
     "metadata": {},
     "output_type": "execute_result"
    },
    {
     "data": {
      "image/png": "[encoded data removed]",
      "text/plain": [
       "<Figure size 720x504 with 1 Axes>"
      ]
     },
     "metadata": {},
     "output_type": "display_data"
    }
   ],
   "source": [
    "# Plot the total value of the member's portfolio (crypto and stock/bond) in a pie chart\n",
    "savings_df.plot.pie(y = 'Amount',figsize = (10,7), title = \"Member's portfolio composition - \")\n"
   ]
  },
  {
   "cell_type": "markdown",
   "metadata": {},
   "source": [
    "#### Step 4: Using Python, determine if the current portfolio has enough to create an emergency fund as part of the member’s financial plan. Ideally, an emergency fund should equal to three times the member’s monthly income. To do this, implement the following steps:\n",
    "\n",
    "Step 1. Create a variable named `emergency_fund_value`, and set it equal to three times the value of the member’s `monthly_income` of 12000. (You set this earlier in Part 1).\n",
    "\n",
    "Step 2. Create a series of three if statements to determine if the member’s total portfolio is large enough to fund the emergency portfolio:\n",
    "\n",
    "* If the total portfolio value is greater than the emergency fund value, display a message congratulating the member for having enough money in this fund.\n",
    "\n",
    "* Else if the total portfolio value is equal to the emergency fund value, display a message congratulating the member on reaching this important financial goal.\n",
    "\n",
    "* Else the total portfolio is less than the emergency fund value, so display a message showing how many dollars away the member is from reaching the goal. (Subtract the total portfolio value from the emergency fund value.)\n"
   ]
  },
  {
   "cell_type": "markdown",
   "metadata": {},
   "source": [
    "##### Step 4-1: Create a variable named `emergency_fund_value`, and set it equal to three times the value of the member’s `monthly_income` of 12000. (You set this earlier in Part 1)."
   ]
  },
  {
   "cell_type": "code",
   "execution_count": 27,
   "metadata": {},
   "outputs": [],
   "source": [
    "# Create a variable named emergency_fund_value\n",
    "emergency_fund_value = 3 * monthly_income\n"
   ]
  },
  {
   "cell_type": "markdown",
   "metadata": {},
   "source": [
    "##### Step 4-2: Create a series of three if statements to determine if the member’s total portfolio is large enough to fund the emergency portfolio:\n",
    "\n",
    "* If the total portfolio value is greater than the emergency fund value, display a message congratulating the member for having enough money in this fund.\n",
    "\n",
    "* Else if the total portfolio value is equal to the emergency fund value, display a message congratulating the member on reaching this important financial goal.\n",
    "\n",
    "* Else the total portfolio is less than the emergency fund value, so display a message showing how many dollars away the member is from reaching the goal. (Subtract the total portfolio value from the emergency fund value.)"
   ]
  },
  {
   "cell_type": "code",
   "execution_count": 28,
   "metadata": {},
   "outputs": [
    {
     "name": "stdout",
     "output_type": "stream",
     "text": [
      "Congratulation! You have more than enough funds in the portfolio to cover for an emergency!\n"
     ]
    }
   ],
   "source": [
    "# Evaluate the possibility of creating an emergency fund with 3 conditions:\n",
    "if(total_portfolio > emergency_fund_value):\n",
    "    print(f\"Congratulation! You have more than enough funds in the portfolio to cover for an emergency!\")\n",
    "elif(total_portfolio == emergency_fund_value):\n",
    "    print(f\"Congratulations! You have reached your emergency fund goal!\")\n",
    "elif(total_portfolio < emergency_fund_value):\n",
    "    print(f\"You still need ${emergency_fund_value - total_portfolio} to reach your emergency fund goal\")\n",
    "else:\n",
    "    print(\"Error\")\n"
   ]
  },
  {
   "cell_type": "markdown",
   "metadata": {},
   "source": [
    "## Part 2: Create a Financial Planner for Retirement"
   ]
  },
  {
   "cell_type": "markdown",
   "metadata": {},
   "source": [
    "### Create the Monte Carlo Simulation\n",
    "\n",
    "In this section, you’ll use the MCForecastTools library to create a Monte Carlo simulation for the member’s savings portfolio. To do this, complete the following steps:\n",
    "\n",
    "1. Make an API call via the Alpaca SDK to get 3 years of historical closing prices for a traditional 60/40 portfolio split: 60% stocks (SPY) and 40% bonds (AGG).\n",
    "\n",
    "2. Run a Monte Carlo simulation of 500 samples and 30 years for the 60/40 portfolio, and then plot the results.The following image shows the overlay line plot resulting from a simulation with these characteristics. However, because a random number generator is used to run each live Monte Carlo simulation, your image will differ slightly from this exact image:\n",
    "\n",
    "![A screenshot depicts the resulting plot.](Images/5-4-monte-carlo-line-plot.png)\n",
    "\n",
    "3. Plot the probability distribution of the Monte Carlo simulation. Plot the probability distribution of the Monte Carlo simulation. The following image shows the histogram plot resulting from a simulation with these characteristics. However, because a random number generator is used to run each live Monte Carlo simulation, your image will differ slightly from this exact image:\n",
    "\n",
    "![A screenshot depicts the histogram plot.](Images/5-4-monte-carlo-histogram.png)\n",
    "\n",
    "4. Generate the summary statistics for the Monte Carlo simulation.\n",
    "\n"
   ]
  },
  {
   "cell_type": "markdown",
   "metadata": {},
   "source": [
    "#### Step 1: Make an API call via the Alpaca SDK to get 3 years of historical closing prices for a traditional 60/40 portfolio split: 60% stocks (SPY) and 40% bonds (AGG)."
   ]
  },
  {
   "cell_type": "code",
   "execution_count": 29,
   "metadata": {},
   "outputs": [],
   "source": [
    "# Set start and end dates of 3 years back from your current date\n",
    "# Alternatively, you can use an end date of 2020-08-07 and work 3 years back from that date \n",
    "start_date = pd.Timestamp(\"2018-10-25\", tz = \"America/New_York\").isoformat()\n",
    "end_date = pd.Timestamp(\"2021-10-25\", tz = \"America/New_York\").isoformat()\n",
    "\n",
    "# Set number of rows to 1000 to retrieve the maximum amount of rows\n",
    "limit_rows = 1000"
   ]
  },
  {
   "cell_type": "code",
   "execution_count": 44,
   "metadata": {},
   "outputs": [
    {
     "data": {
      "text/html": [
       "<div>\n",
       "<style scoped>\n",
       "    .dataframe tbody tr th:only-of-type {\n",
       "        vertical-align: middle;\n",
       "    }\n",
       "\n",
       "    .dataframe tbody tr th {\n",
       "        vertical-align: top;\n",
       "    }\n",
       "\n",
       "    .dataframe thead tr th {\n",
       "        text-align: left;\n",
       "    }\n",
       "\n",
       "    .dataframe thead tr:last-of-type th {\n",
       "        text-align: right;\n",
       "    }\n",
       "</style>\n",
       "<table border=\"1\" class=\"dataframe\">\n",
       "  <thead>\n",
       "    <tr>\n",
       "      <th></th>\n",
       "      <th colspan=\"5\" halign=\"left\">AGG</th>\n",
       "      <th colspan=\"5\" halign=\"left\">SPY</th>\n",
       "    </tr>\n",
       "    <tr>\n",
       "      <th></th>\n",
       "      <th>open</th>\n",
       "      <th>high</th>\n",
       "      <th>low</th>\n",
       "      <th>close</th>\n",
       "      <th>volume</th>\n",
       "      <th>open</th>\n",
       "      <th>high</th>\n",
       "      <th>low</th>\n",
       "      <th>close</th>\n",
       "      <th>volume</th>\n",
       "    </tr>\n",
       "    <tr>\n",
       "      <th>time</th>\n",
       "      <th></th>\n",
       "      <th></th>\n",
       "      <th></th>\n",
       "      <th></th>\n",
       "      <th></th>\n",
       "      <th></th>\n",
       "      <th></th>\n",
       "      <th></th>\n",
       "      <th></th>\n",
       "      <th></th>\n",
       "    </tr>\n",
       "  </thead>\n",
       "  <tbody>\n",
       "    <tr>\n",
       "      <th>2018-10-25 00:00:00-04:00</th>\n",
       "      <td>104.71</td>\n",
       "      <td>104.77</td>\n",
       "      <td>104.61</td>\n",
       "      <td>104.665</td>\n",
       "      <td>3882207.0</td>\n",
       "      <td>267.37</td>\n",
       "      <td>271.81</td>\n",
       "      <td>266.23</td>\n",
       "      <td>270.14</td>\n",
       "      <td>97215770</td>\n",
       "    </tr>\n",
       "    <tr>\n",
       "      <th>2018-10-26 00:00:00-04:00</th>\n",
       "      <td>104.88</td>\n",
       "      <td>105.05</td>\n",
       "      <td>104.87</td>\n",
       "      <td>104.915</td>\n",
       "      <td>4411985.0</td>\n",
       "      <td>265.92</td>\n",
       "      <td>271.00</td>\n",
       "      <td>262.29</td>\n",
       "      <td>265.29</td>\n",
       "      <td>161147868</td>\n",
       "    </tr>\n",
       "    <tr>\n",
       "      <th>2018-10-29 00:00:00-04:00</th>\n",
       "      <td>104.86</td>\n",
       "      <td>104.89</td>\n",
       "      <td>104.72</td>\n",
       "      <td>104.790</td>\n",
       "      <td>3599179.0</td>\n",
       "      <td>268.78</td>\n",
       "      <td>270.25</td>\n",
       "      <td>259.85</td>\n",
       "      <td>263.80</td>\n",
       "      <td>120705901</td>\n",
       "    </tr>\n",
       "    <tr>\n",
       "      <th>2018-10-30 00:00:00-04:00</th>\n",
       "      <td>104.68</td>\n",
       "      <td>104.78</td>\n",
       "      <td>104.64</td>\n",
       "      <td>104.650</td>\n",
       "      <td>2246561.0</td>\n",
       "      <td>263.67</td>\n",
       "      <td>268.12</td>\n",
       "      <td>263.12</td>\n",
       "      <td>267.81</td>\n",
       "      <td>122643325</td>\n",
       "    </tr>\n",
       "    <tr>\n",
       "      <th>2018-10-31 00:00:00-04:00</th>\n",
       "      <td>104.50</td>\n",
       "      <td>104.70</td>\n",
       "      <td>104.50</td>\n",
       "      <td>104.580</td>\n",
       "      <td>11670445.0</td>\n",
       "      <td>270.65</td>\n",
       "      <td>273.23</td>\n",
       "      <td>270.12</td>\n",
       "      <td>270.69</td>\n",
       "      <td>97427146</td>\n",
       "    </tr>\n",
       "  </tbody>\n",
       "</table>\n",
       "</div>"
      ],
      "text/plain": [
       "                              AGG                                       \\\n",
       "                             open    high     low    close      volume   \n",
       "time                                                                     \n",
       "2018-10-25 00:00:00-04:00  104.71  104.77  104.61  104.665   3882207.0   \n",
       "2018-10-26 00:00:00-04:00  104.88  105.05  104.87  104.915   4411985.0   \n",
       "2018-10-29 00:00:00-04:00  104.86  104.89  104.72  104.790   3599179.0   \n",
       "2018-10-30 00:00:00-04:00  104.68  104.78  104.64  104.650   2246561.0   \n",
       "2018-10-31 00:00:00-04:00  104.50  104.70  104.50  104.580  11670445.0   \n",
       "\n",
       "                              SPY                                     \n",
       "                             open    high     low   close     volume  \n",
       "time                                                                  \n",
       "2018-10-25 00:00:00-04:00  267.37  271.81  266.23  270.14   97215770  \n",
       "2018-10-26 00:00:00-04:00  265.92  271.00  262.29  265.29  161147868  \n",
       "2018-10-29 00:00:00-04:00  268.78  270.25  259.85  263.80  120705901  \n",
       "2018-10-30 00:00:00-04:00  263.67  268.12  263.12  267.81  122643325  \n",
       "2018-10-31 00:00:00-04:00  270.65  273.23  270.12  270.69   97427146  "
      ]
     },
     "metadata": {},
     "output_type": "display_data"
    },
    {
     "data": {
      "text/html": [
       "<div>\n",
       "<style scoped>\n",
       "    .dataframe tbody tr th:only-of-type {\n",
       "        vertical-align: middle;\n",
       "    }\n",
       "\n",
       "    .dataframe tbody tr th {\n",
       "        vertical-align: top;\n",
       "    }\n",
       "\n",
       "    .dataframe thead tr th {\n",
       "        text-align: left;\n",
       "    }\n",
       "\n",
       "    .dataframe thead tr:last-of-type th {\n",
       "        text-align: right;\n",
       "    }\n",
       "</style>\n",
       "<table border=\"1\" class=\"dataframe\">\n",
       "  <thead>\n",
       "    <tr>\n",
       "      <th></th>\n",
       "      <th colspan=\"5\" halign=\"left\">AGG</th>\n",
       "      <th colspan=\"5\" halign=\"left\">SPY</th>\n",
       "    </tr>\n",
       "    <tr>\n",
       "      <th></th>\n",
       "      <th>open</th>\n",
       "      <th>high</th>\n",
       "      <th>low</th>\n",
       "      <th>close</th>\n",
       "      <th>volume</th>\n",
       "      <th>open</th>\n",
       "      <th>high</th>\n",
       "      <th>low</th>\n",
       "      <th>close</th>\n",
       "      <th>volume</th>\n",
       "    </tr>\n",
       "    <tr>\n",
       "      <th>time</th>\n",
       "      <th></th>\n",
       "      <th></th>\n",
       "      <th></th>\n",
       "      <th></th>\n",
       "      <th></th>\n",
       "      <th></th>\n",
       "      <th></th>\n",
       "      <th></th>\n",
       "      <th></th>\n",
       "      <th></th>\n",
       "    </tr>\n",
       "  </thead>\n",
       "  <tbody>\n",
       "    <tr>\n",
       "      <th>2021-10-19 00:00:00-04:00</th>\n",
       "      <td>114.37</td>\n",
       "      <td>114.3700</td>\n",
       "      <td>114.1600</td>\n",
       "      <td>114.18</td>\n",
       "      <td>3999066.0</td>\n",
       "      <td>448.92</td>\n",
       "      <td>450.700</td>\n",
       "      <td>448.27</td>\n",
       "      <td>450.68</td>\n",
       "      <td>40790864</td>\n",
       "    </tr>\n",
       "    <tr>\n",
       "      <th>2021-10-20 00:00:00-04:00</th>\n",
       "      <td>114.17</td>\n",
       "      <td>114.2900</td>\n",
       "      <td>114.0600</td>\n",
       "      <td>114.07</td>\n",
       "      <td>5881766.0</td>\n",
       "      <td>451.13</td>\n",
       "      <td>452.732</td>\n",
       "      <td>451.01</td>\n",
       "      <td>452.39</td>\n",
       "      <td>41594298</td>\n",
       "    </tr>\n",
       "    <tr>\n",
       "      <th>2021-10-21 00:00:00-04:00</th>\n",
       "      <td>114.01</td>\n",
       "      <td>114.0400</td>\n",
       "      <td>113.8423</td>\n",
       "      <td>113.85</td>\n",
       "      <td>4741154.0</td>\n",
       "      <td>451.76</td>\n",
       "      <td>453.829</td>\n",
       "      <td>451.31</td>\n",
       "      <td>453.61</td>\n",
       "      <td>33945007</td>\n",
       "    </tr>\n",
       "    <tr>\n",
       "      <th>2021-10-22 00:00:00-04:00</th>\n",
       "      <td>113.97</td>\n",
       "      <td>114.1399</td>\n",
       "      <td>113.8950</td>\n",
       "      <td>114.07</td>\n",
       "      <td>3309637.0</td>\n",
       "      <td>453.13</td>\n",
       "      <td>454.670</td>\n",
       "      <td>451.05</td>\n",
       "      <td>453.13</td>\n",
       "      <td>50771701</td>\n",
       "    </tr>\n",
       "    <tr>\n",
       "      <th>2021-10-25 00:00:00-04:00</th>\n",
       "      <td>114.06</td>\n",
       "      <td>114.2700</td>\n",
       "      <td>114.0600</td>\n",
       "      <td>114.17</td>\n",
       "      <td>7088133.0</td>\n",
       "      <td>454.28</td>\n",
       "      <td>455.900</td>\n",
       "      <td>452.39</td>\n",
       "      <td>455.48</td>\n",
       "      <td>37918548</td>\n",
       "    </tr>\n",
       "  </tbody>\n",
       "</table>\n",
       "</div>"
      ],
      "text/plain": [
       "                              AGG                                         \\\n",
       "                             open      high       low   close     volume   \n",
       "time                                                                       \n",
       "2021-10-19 00:00:00-04:00  114.37  114.3700  114.1600  114.18  3999066.0   \n",
       "2021-10-20 00:00:00-04:00  114.17  114.2900  114.0600  114.07  5881766.0   \n",
       "2021-10-21 00:00:00-04:00  114.01  114.0400  113.8423  113.85  4741154.0   \n",
       "2021-10-22 00:00:00-04:00  113.97  114.1399  113.8950  114.07  3309637.0   \n",
       "2021-10-25 00:00:00-04:00  114.06  114.2700  114.0600  114.17  7088133.0   \n",
       "\n",
       "                              SPY                                     \n",
       "                             open     high     low   close    volume  \n",
       "time                                                                  \n",
       "2021-10-19 00:00:00-04:00  448.92  450.700  448.27  450.68  40790864  \n",
       "2021-10-20 00:00:00-04:00  451.13  452.732  451.01  452.39  41594298  \n",
       "2021-10-21 00:00:00-04:00  451.76  453.829  451.31  453.61  33945007  \n",
       "2021-10-22 00:00:00-04:00  453.13  454.670  451.05  453.13  50771701  \n",
       "2021-10-25 00:00:00-04:00  454.28  455.900  452.39  455.48  37918548  "
      ]
     },
     "metadata": {},
     "output_type": "display_data"
    }
   ],
   "source": [
    "# Use the Alpaca get_barset function to make the API call to get the 3 years worth of pricing data\n",
    "# The tickers and timeframe parameters should have been set in Part 1 of this activity \n",
    "# The start and end dates should be updated with the information set above\n",
    "# Remember to add the df property to the end of the call so the response is returned as a DataFrame\n",
    "prices_df = alpaca.get_barset(tickers, timeframe, start = start_date, end = end_date, limit = limit_rows).df\n",
    "\n",
    "\n",
    "# Display both the first and last five rows of the DataFrame\n",
    "display(prices_df.head())\n",
    "display(prices_df.tail())\n"
   ]
  },
  {
   "cell_type": "markdown",
   "metadata": {},
   "source": [
    "#### Step 2: Run a Monte Carlo simulation of 500 samples and 30 years for the 60/40 portfolio, and then plot the results."
   ]
  },
  {
   "cell_type": "code",
   "execution_count": 45,
   "metadata": {},
   "outputs": [
    {
     "data": {
      "text/html": [
       "<div>\n",
       "<style scoped>\n",
       "    .dataframe tbody tr th:only-of-type {\n",
       "        vertical-align: middle;\n",
       "    }\n",
       "\n",
       "    .dataframe tbody tr th {\n",
       "        vertical-align: top;\n",
       "    }\n",
       "\n",
       "    .dataframe thead tr th {\n",
       "        text-align: left;\n",
       "    }\n",
       "\n",
       "    .dataframe thead tr:last-of-type th {\n",
       "        text-align: right;\n",
       "    }\n",
       "</style>\n",
       "<table border=\"1\" class=\"dataframe\">\n",
       "  <thead>\n",
       "    <tr>\n",
       "      <th></th>\n",
       "      <th colspan=\"6\" halign=\"left\">AGG</th>\n",
       "      <th colspan=\"6\" halign=\"left\">SPY</th>\n",
       "    </tr>\n",
       "    <tr>\n",
       "      <th></th>\n",
       "      <th>open</th>\n",
       "      <th>high</th>\n",
       "      <th>low</th>\n",
       "      <th>close</th>\n",
       "      <th>volume</th>\n",
       "      <th>daily_return</th>\n",
       "      <th>open</th>\n",
       "      <th>high</th>\n",
       "      <th>low</th>\n",
       "      <th>close</th>\n",
       "      <th>volume</th>\n",
       "      <th>daily_return</th>\n",
       "    </tr>\n",
       "    <tr>\n",
       "      <th>time</th>\n",
       "      <th></th>\n",
       "      <th></th>\n",
       "      <th></th>\n",
       "      <th></th>\n",
       "      <th></th>\n",
       "      <th></th>\n",
       "      <th></th>\n",
       "      <th></th>\n",
       "      <th></th>\n",
       "      <th></th>\n",
       "      <th></th>\n",
       "      <th></th>\n",
       "    </tr>\n",
       "  </thead>\n",
       "  <tbody>\n",
       "    <tr>\n",
       "      <th>2018-10-25 00:00:00-04:00</th>\n",
       "      <td>104.71</td>\n",
       "      <td>104.77</td>\n",
       "      <td>104.61</td>\n",
       "      <td>104.665</td>\n",
       "      <td>3882207.0</td>\n",
       "      <td>NaN</td>\n",
       "      <td>267.37</td>\n",
       "      <td>271.81</td>\n",
       "      <td>266.23</td>\n",
       "      <td>270.14</td>\n",
       "      <td>97215770</td>\n",
       "      <td>NaN</td>\n",
       "    </tr>\n",
       "    <tr>\n",
       "      <th>2018-10-26 00:00:00-04:00</th>\n",
       "      <td>104.88</td>\n",
       "      <td>105.05</td>\n",
       "      <td>104.87</td>\n",
       "      <td>104.915</td>\n",
       "      <td>4411985.0</td>\n",
       "      <td>0.002389</td>\n",
       "      <td>265.92</td>\n",
       "      <td>271.00</td>\n",
       "      <td>262.29</td>\n",
       "      <td>265.29</td>\n",
       "      <td>161147868</td>\n",
       "      <td>-0.017954</td>\n",
       "    </tr>\n",
       "    <tr>\n",
       "      <th>2018-10-29 00:00:00-04:00</th>\n",
       "      <td>104.86</td>\n",
       "      <td>104.89</td>\n",
       "      <td>104.72</td>\n",
       "      <td>104.790</td>\n",
       "      <td>3599179.0</td>\n",
       "      <td>-0.001191</td>\n",
       "      <td>268.78</td>\n",
       "      <td>270.25</td>\n",
       "      <td>259.85</td>\n",
       "      <td>263.80</td>\n",
       "      <td>120705901</td>\n",
       "      <td>-0.005616</td>\n",
       "    </tr>\n",
       "    <tr>\n",
       "      <th>2018-10-30 00:00:00-04:00</th>\n",
       "      <td>104.68</td>\n",
       "      <td>104.78</td>\n",
       "      <td>104.64</td>\n",
       "      <td>104.650</td>\n",
       "      <td>2246561.0</td>\n",
       "      <td>-0.001336</td>\n",
       "      <td>263.67</td>\n",
       "      <td>268.12</td>\n",
       "      <td>263.12</td>\n",
       "      <td>267.81</td>\n",
       "      <td>122643325</td>\n",
       "      <td>0.015201</td>\n",
       "    </tr>\n",
       "    <tr>\n",
       "      <th>2018-10-31 00:00:00-04:00</th>\n",
       "      <td>104.50</td>\n",
       "      <td>104.70</td>\n",
       "      <td>104.50</td>\n",
       "      <td>104.580</td>\n",
       "      <td>11670445.0</td>\n",
       "      <td>-0.000669</td>\n",
       "      <td>270.65</td>\n",
       "      <td>273.23</td>\n",
       "      <td>270.12</td>\n",
       "      <td>270.69</td>\n",
       "      <td>97427146</td>\n",
       "      <td>0.010754</td>\n",
       "    </tr>\n",
       "  </tbody>\n",
       "</table>\n",
       "</div>"
      ],
      "text/plain": [
       "                              AGG                                       \\\n",
       "                             open    high     low    close      volume   \n",
       "time                                                                     \n",
       "2018-10-25 00:00:00-04:00  104.71  104.77  104.61  104.665   3882207.0   \n",
       "2018-10-26 00:00:00-04:00  104.88  105.05  104.87  104.915   4411985.0   \n",
       "2018-10-29 00:00:00-04:00  104.86  104.89  104.72  104.790   3599179.0   \n",
       "2018-10-30 00:00:00-04:00  104.68  104.78  104.64  104.650   2246561.0   \n",
       "2018-10-31 00:00:00-04:00  104.50  104.70  104.50  104.580  11670445.0   \n",
       "\n",
       "                                           SPY                          \\\n",
       "                          daily_return    open    high     low   close   \n",
       "time                                                                     \n",
       "2018-10-25 00:00:00-04:00          NaN  267.37  271.81  266.23  270.14   \n",
       "2018-10-26 00:00:00-04:00     0.002389  265.92  271.00  262.29  265.29   \n",
       "2018-10-29 00:00:00-04:00    -0.001191  268.78  270.25  259.85  263.80   \n",
       "2018-10-30 00:00:00-04:00    -0.001336  263.67  268.12  263.12  267.81   \n",
       "2018-10-31 00:00:00-04:00    -0.000669  270.65  273.23  270.12  270.69   \n",
       "\n",
       "                                                   \n",
       "                              volume daily_return  \n",
       "time                                               \n",
       "2018-10-25 00:00:00-04:00   97215770          NaN  \n",
       "2018-10-26 00:00:00-04:00  161147868    -0.017954  \n",
       "2018-10-29 00:00:00-04:00  120705901    -0.005616  \n",
       "2018-10-30 00:00:00-04:00  122643325     0.015201  \n",
       "2018-10-31 00:00:00-04:00   97427146     0.010754  "
      ]
     },
     "execution_count": 45,
     "metadata": {},
     "output_type": "execute_result"
    }
   ],
   "source": [
    "# Configure the Monte Carlo simulation to forecast 30 years cumulative returns\n",
    "# The weights should be split 40% to AGG and 60% to SPY.\n",
    "# Run 500 samples.\n",
    "MC_retirement = MCSimulation(portfolio_data = prices_df,\n",
    "                            weights = [0.40, 0.60],\n",
    "                            num_simulation = 500,\n",
    "                            num_trading_days = 252*30)\n",
    "\n",
    "# Review the simulation input data\n",
    "MC_retirement.portfolio_data.head()\n"
   ]
  },
  {
   "cell_type": "code",
   "execution_count": 33,
   "metadata": {},
   "outputs": [
    {
     "name": "stdout",
     "output_type": "stream",
     "text": [
      "Running Monte Carlo simulation number 0.\n",
      "Running Monte Carlo simulation number 10.\n",
      "Running Monte Carlo simulation number 20.\n",
      "Running Monte Carlo simulation number 30.\n",
      "Running Monte Carlo simulation number 40.\n",
      "Running Monte Carlo simulation number 50.\n",
      "Running Monte Carlo simulation number 60.\n",
      "Running Monte Carlo simulation number 70.\n",
      "Running Monte Carlo simulation number 80.\n",
      "Running Monte Carlo simulation number 90.\n",
      "Running Monte Carlo simulation number 100.\n",
      "Running Monte Carlo simulation number 110.\n",
      "Running Monte Carlo simulation number 120.\n",
      "Running Monte Carlo simulation number 130.\n",
      "Running Monte Carlo simulation number 140.\n",
      "Running Monte Carlo simulation number 150.\n",
      "Running Monte Carlo simulation number 160.\n",
      "Running Monte Carlo simulation number 170.\n",
      "Running Monte Carlo simulation number 180.\n",
      "Running Monte Carlo simulation number 190.\n",
      "Running Monte Carlo simulation number 200.\n",
      "Running Monte Carlo simulation number 210.\n",
      "Running Monte Carlo simulation number 220.\n",
      "Running Monte Carlo simulation number 230.\n",
      "Running Monte Carlo simulation number 240.\n",
      "Running Monte Carlo simulation number 250.\n",
      "Running Monte Carlo simulation number 260.\n",
      "Running Monte Carlo simulation number 270.\n",
      "Running Monte Carlo simulation number 280.\n",
      "Running Monte Carlo simulation number 290.\n",
      "Running Monte Carlo simulation number 300.\n",
      "Running Monte Carlo simulation number 310.\n",
      "Running Monte Carlo simulation number 320.\n",
      "Running Monte Carlo simulation number 330.\n",
      "Running Monte Carlo simulation number 340.\n",
      "Running Monte Carlo simulation number 350.\n",
      "Running Monte Carlo simulation number 360.\n",
      "Running Monte Carlo simulation number 370.\n",
      "Running Monte Carlo simulation number 380.\n",
      "Running Monte Carlo simulation number 390.\n",
      "Running Monte Carlo simulation number 400.\n",
      "Running Monte Carlo simulation number 410.\n",
      "Running Monte Carlo simulation number 420.\n",
      "Running Monte Carlo simulation number 430.\n",
      "Running Monte Carlo simulation number 440.\n",
      "Running Monte Carlo simulation number 450.\n",
      "Running Monte Carlo simulation number 460.\n",
      "Running Monte Carlo simulation number 470.\n",
      "Running Monte Carlo simulation number 480.\n",
      "Running Monte Carlo simulation number 490.\n"
     ]
    },
    {
     "data": {
      "text/html": [
       "<div>\n",
       "<style scoped>\n",
       "    .dataframe tbody tr th:only-of-type {\n",
       "        vertical-align: middle;\n",
       "    }\n",
       "\n",
       "    .dataframe tbody tr th {\n",
       "        vertical-align: top;\n",
       "    }\n",
       "\n",
       "    .dataframe thead th {\n",
       "        text-align: right;\n",
       "    }\n",
       "</style>\n",
       "<table border=\"1\" class=\"dataframe\">\n",
       "  <thead>\n",
       "    <tr style=\"text-align: right;\">\n",
       "      <th></th>\n",
       "      <th>0</th>\n",
       "      <th>1</th>\n",
       "      <th>2</th>\n",
       "      <th>3</th>\n",
       "      <th>4</th>\n",
       "      <th>5</th>\n",
       "      <th>6</th>\n",
       "      <th>7</th>\n",
       "      <th>8</th>\n",
       "      <th>9</th>\n",
       "      <th>...</th>\n",
       "      <th>490</th>\n",
       "      <th>491</th>\n",
       "      <th>492</th>\n",
       "      <th>493</th>\n",
       "      <th>494</th>\n",
       "      <th>495</th>\n",
       "      <th>496</th>\n",
       "      <th>497</th>\n",
       "      <th>498</th>\n",
       "      <th>499</th>\n",
       "    </tr>\n",
       "  </thead>\n",
       "  <tbody>\n",
       "    <tr>\n",
       "      <th>0</th>\n",
       "      <td>1.000000</td>\n",
       "      <td>1.000000</td>\n",
       "      <td>1.000000</td>\n",
       "      <td>1.000000</td>\n",
       "      <td>1.000000</td>\n",
       "      <td>1.000000</td>\n",
       "      <td>1.000000</td>\n",
       "      <td>1.000000</td>\n",
       "      <td>1.000000</td>\n",
       "      <td>1.000000</td>\n",
       "      <td>...</td>\n",
       "      <td>1.000000</td>\n",
       "      <td>1.000000</td>\n",
       "      <td>1.000000</td>\n",
       "      <td>1.000000</td>\n",
       "      <td>1.000000</td>\n",
       "      <td>1.000000</td>\n",
       "      <td>1.000000</td>\n",
       "      <td>1.000000</td>\n",
       "      <td>1.000000</td>\n",
       "      <td>1.000000</td>\n",
       "    </tr>\n",
       "    <tr>\n",
       "      <th>1</th>\n",
       "      <td>0.992394</td>\n",
       "      <td>0.997949</td>\n",
       "      <td>0.975407</td>\n",
       "      <td>1.011718</td>\n",
       "      <td>0.993437</td>\n",
       "      <td>1.010669</td>\n",
       "      <td>1.004738</td>\n",
       "      <td>0.990704</td>\n",
       "      <td>0.998707</td>\n",
       "      <td>0.999419</td>\n",
       "      <td>...</td>\n",
       "      <td>1.007939</td>\n",
       "      <td>0.997267</td>\n",
       "      <td>0.991186</td>\n",
       "      <td>0.999481</td>\n",
       "      <td>0.985122</td>\n",
       "      <td>1.006869</td>\n",
       "      <td>0.997757</td>\n",
       "      <td>0.989851</td>\n",
       "      <td>1.007118</td>\n",
       "      <td>1.002733</td>\n",
       "    </tr>\n",
       "    <tr>\n",
       "      <th>2</th>\n",
       "      <td>0.994444</td>\n",
       "      <td>0.990760</td>\n",
       "      <td>0.983331</td>\n",
       "      <td>1.004218</td>\n",
       "      <td>1.002755</td>\n",
       "      <td>1.002022</td>\n",
       "      <td>1.006039</td>\n",
       "      <td>0.981721</td>\n",
       "      <td>0.995858</td>\n",
       "      <td>0.994735</td>\n",
       "      <td>...</td>\n",
       "      <td>1.024157</td>\n",
       "      <td>1.005152</td>\n",
       "      <td>0.997747</td>\n",
       "      <td>0.996793</td>\n",
       "      <td>0.986062</td>\n",
       "      <td>1.002729</td>\n",
       "      <td>0.989766</td>\n",
       "      <td>0.992445</td>\n",
       "      <td>1.013544</td>\n",
       "      <td>1.017358</td>\n",
       "    </tr>\n",
       "    <tr>\n",
       "      <th>3</th>\n",
       "      <td>0.995734</td>\n",
       "      <td>0.996788</td>\n",
       "      <td>0.992782</td>\n",
       "      <td>1.005195</td>\n",
       "      <td>1.003590</td>\n",
       "      <td>1.008064</td>\n",
       "      <td>1.013186</td>\n",
       "      <td>0.992177</td>\n",
       "      <td>0.998858</td>\n",
       "      <td>1.005200</td>\n",
       "      <td>...</td>\n",
       "      <td>1.026507</td>\n",
       "      <td>0.998805</td>\n",
       "      <td>1.004718</td>\n",
       "      <td>0.992607</td>\n",
       "      <td>0.982386</td>\n",
       "      <td>1.007757</td>\n",
       "      <td>0.995545</td>\n",
       "      <td>0.998181</td>\n",
       "      <td>1.021698</td>\n",
       "      <td>1.020778</td>\n",
       "    </tr>\n",
       "    <tr>\n",
       "      <th>4</th>\n",
       "      <td>0.996505</td>\n",
       "      <td>1.000751</td>\n",
       "      <td>0.999478</td>\n",
       "      <td>1.001980</td>\n",
       "      <td>1.004292</td>\n",
       "      <td>1.010510</td>\n",
       "      <td>1.022441</td>\n",
       "      <td>0.988580</td>\n",
       "      <td>0.985242</td>\n",
       "      <td>1.010679</td>\n",
       "      <td>...</td>\n",
       "      <td>1.029771</td>\n",
       "      <td>0.996629</td>\n",
       "      <td>0.985330</td>\n",
       "      <td>0.993357</td>\n",
       "      <td>0.991028</td>\n",
       "      <td>0.995346</td>\n",
       "      <td>0.996698</td>\n",
       "      <td>1.007015</td>\n",
       "      <td>1.005532</td>\n",
       "      <td>1.024235</td>\n",
       "    </tr>\n",
       "    <tr>\n",
       "      <th>...</th>\n",
       "      <td>...</td>\n",
       "      <td>...</td>\n",
       "      <td>...</td>\n",
       "      <td>...</td>\n",
       "      <td>...</td>\n",
       "      <td>...</td>\n",
       "      <td>...</td>\n",
       "      <td>...</td>\n",
       "      <td>...</td>\n",
       "      <td>...</td>\n",
       "      <td>...</td>\n",
       "      <td>...</td>\n",
       "      <td>...</td>\n",
       "      <td>...</td>\n",
       "      <td>...</td>\n",
       "      <td>...</td>\n",
       "      <td>...</td>\n",
       "      <td>...</td>\n",
       "      <td>...</td>\n",
       "      <td>...</td>\n",
       "      <td>...</td>\n",
       "    </tr>\n",
       "    <tr>\n",
       "      <th>7556</th>\n",
       "      <td>59.604218</td>\n",
       "      <td>14.497670</td>\n",
       "      <td>85.175161</td>\n",
       "      <td>39.854978</td>\n",
       "      <td>82.306399</td>\n",
       "      <td>19.318661</td>\n",
       "      <td>51.927924</td>\n",
       "      <td>73.736688</td>\n",
       "      <td>23.375023</td>\n",
       "      <td>30.073292</td>\n",
       "      <td>...</td>\n",
       "      <td>32.569101</td>\n",
       "      <td>50.934031</td>\n",
       "      <td>16.082678</td>\n",
       "      <td>30.155072</td>\n",
       "      <td>12.175699</td>\n",
       "      <td>10.025413</td>\n",
       "      <td>45.305794</td>\n",
       "      <td>80.901488</td>\n",
       "      <td>26.810535</td>\n",
       "      <td>62.598971</td>\n",
       "    </tr>\n",
       "    <tr>\n",
       "      <th>7557</th>\n",
       "      <td>59.912878</td>\n",
       "      <td>14.335892</td>\n",
       "      <td>84.584181</td>\n",
       "      <td>39.737354</td>\n",
       "      <td>83.109699</td>\n",
       "      <td>19.225553</td>\n",
       "      <td>51.889003</td>\n",
       "      <td>73.155912</td>\n",
       "      <td>23.588003</td>\n",
       "      <td>30.070974</td>\n",
       "      <td>...</td>\n",
       "      <td>32.546547</td>\n",
       "      <td>50.772823</td>\n",
       "      <td>16.162414</td>\n",
       "      <td>30.451374</td>\n",
       "      <td>12.310229</td>\n",
       "      <td>10.015201</td>\n",
       "      <td>45.990785</td>\n",
       "      <td>79.184640</td>\n",
       "      <td>26.965894</td>\n",
       "      <td>62.922256</td>\n",
       "    </tr>\n",
       "    <tr>\n",
       "      <th>7558</th>\n",
       "      <td>60.018811</td>\n",
       "      <td>14.328052</td>\n",
       "      <td>83.621422</td>\n",
       "      <td>39.836951</td>\n",
       "      <td>83.882380</td>\n",
       "      <td>19.266674</td>\n",
       "      <td>52.188977</td>\n",
       "      <td>73.139226</td>\n",
       "      <td>23.406558</td>\n",
       "      <td>30.469480</td>\n",
       "      <td>...</td>\n",
       "      <td>32.447521</td>\n",
       "      <td>50.821965</td>\n",
       "      <td>15.913715</td>\n",
       "      <td>30.211315</td>\n",
       "      <td>12.270810</td>\n",
       "      <td>10.038736</td>\n",
       "      <td>45.951529</td>\n",
       "      <td>80.179137</td>\n",
       "      <td>26.925563</td>\n",
       "      <td>63.488947</td>\n",
       "    </tr>\n",
       "    <tr>\n",
       "      <th>7559</th>\n",
       "      <td>59.999543</td>\n",
       "      <td>14.317013</td>\n",
       "      <td>83.146444</td>\n",
       "      <td>39.743862</td>\n",
       "      <td>85.295190</td>\n",
       "      <td>19.049355</td>\n",
       "      <td>52.484699</td>\n",
       "      <td>73.645228</td>\n",
       "      <td>23.288922</td>\n",
       "      <td>29.965042</td>\n",
       "      <td>...</td>\n",
       "      <td>32.186307</td>\n",
       "      <td>50.676050</td>\n",
       "      <td>16.019507</td>\n",
       "      <td>30.170706</td>\n",
       "      <td>12.186868</td>\n",
       "      <td>9.994822</td>\n",
       "      <td>45.727408</td>\n",
       "      <td>79.718452</td>\n",
       "      <td>26.882789</td>\n",
       "      <td>62.567785</td>\n",
       "    </tr>\n",
       "    <tr>\n",
       "      <th>7560</th>\n",
       "      <td>60.634720</td>\n",
       "      <td>14.373578</td>\n",
       "      <td>82.136243</td>\n",
       "      <td>39.415192</td>\n",
       "      <td>85.181821</td>\n",
       "      <td>19.110093</td>\n",
       "      <td>52.024277</td>\n",
       "      <td>73.594942</td>\n",
       "      <td>23.076107</td>\n",
       "      <td>30.495700</td>\n",
       "      <td>...</td>\n",
       "      <td>32.309688</td>\n",
       "      <td>50.713293</td>\n",
       "      <td>16.022710</td>\n",
       "      <td>30.137637</td>\n",
       "      <td>12.111318</td>\n",
       "      <td>9.955599</td>\n",
       "      <td>45.144491</td>\n",
       "      <td>79.371026</td>\n",
       "      <td>27.192185</td>\n",
       "      <td>63.019427</td>\n",
       "    </tr>\n",
       "  </tbody>\n",
       "</table>\n",
       "<p>7561 rows × 500 columns</p>\n",
       "</div>"
      ],
      "text/plain": [
       "            0          1          2          3          4          5    \\\n",
       "0      1.000000   1.000000   1.000000   1.000000   1.000000   1.000000   \n",
       "1      0.992394   0.997949   0.975407   1.011718   0.993437   1.010669   \n",
       "2      0.994444   0.990760   0.983331   1.004218   1.002755   1.002022   \n",
       "3      0.995734   0.996788   0.992782   1.005195   1.003590   1.008064   \n",
       "4      0.996505   1.000751   0.999478   1.001980   1.004292   1.010510   \n",
       "...         ...        ...        ...        ...        ...        ...   \n",
       "7556  59.604218  14.497670  85.175161  39.854978  82.306399  19.318661   \n",
       "7557  59.912878  14.335892  84.584181  39.737354  83.109699  19.225553   \n",
       "7558  60.018811  14.328052  83.621422  39.836951  83.882380  19.266674   \n",
       "7559  59.999543  14.317013  83.146444  39.743862  85.295190  19.049355   \n",
       "7560  60.634720  14.373578  82.136243  39.415192  85.181821  19.110093   \n",
       "\n",
       "            6          7          8          9    ...        490        491  \\\n",
       "0      1.000000   1.000000   1.000000   1.000000  ...   1.000000   1.000000   \n",
       "1      1.004738   0.990704   0.998707   0.999419  ...   1.007939   0.997267   \n",
       "2      1.006039   0.981721   0.995858   0.994735  ...   1.024157   1.005152   \n",
       "3      1.013186   0.992177   0.998858   1.005200  ...   1.026507   0.998805   \n",
       "4      1.022441   0.988580   0.985242   1.010679  ...   1.029771   0.996629   \n",
       "...         ...        ...        ...        ...  ...        ...        ...   \n",
       "7556  51.927924  73.736688  23.375023  30.073292  ...  32.569101  50.934031   \n",
       "7557  51.889003  73.155912  23.588003  30.070974  ...  32.546547  50.772823   \n",
       "7558  52.188977  73.139226  23.406558  30.469480  ...  32.447521  50.821965   \n",
       "7559  52.484699  73.645228  23.288922  29.965042  ...  32.186307  50.676050   \n",
       "7560  52.024277  73.594942  23.076107  30.495700  ...  32.309688  50.713293   \n",
       "\n",
       "            492        493        494        495        496        497  \\\n",
       "0      1.000000   1.000000   1.000000   1.000000   1.000000   1.000000   \n",
       "1      0.991186   0.999481   0.985122   1.006869   0.997757   0.989851   \n",
       "2      0.997747   0.996793   0.986062   1.002729   0.989766   0.992445   \n",
       "3      1.004718   0.992607   0.982386   1.007757   0.995545   0.998181   \n",
       "4      0.985330   0.993357   0.991028   0.995346   0.996698   1.007015   \n",
       "...         ...        ...        ...        ...        ...        ...   \n",
       "7556  16.082678  30.155072  12.175699  10.025413  45.305794  80.901488   \n",
       "7557  16.162414  30.451374  12.310229  10.015201  45.990785  79.184640   \n",
       "7558  15.913715  30.211315  12.270810  10.038736  45.951529  80.179137   \n",
       "7559  16.019507  30.170706  12.186868   9.994822  45.727408  79.718452   \n",
       "7560  16.022710  30.137637  12.111318   9.955599  45.144491  79.371026   \n",
       "\n",
       "            498        499  \n",
       "0      1.000000   1.000000  \n",
       "1      1.007118   1.002733  \n",
       "2      1.013544   1.017358  \n",
       "3      1.021698   1.020778  \n",
       "4      1.005532   1.024235  \n",
       "...         ...        ...  \n",
       "7556  26.810535  62.598971  \n",
       "7557  26.965894  62.922256  \n",
       "7558  26.925563  63.488947  \n",
       "7559  26.882789  62.567785  \n",
       "7560  27.192185  63.019427  \n",
       "\n",
       "[7561 rows x 500 columns]"
      ]
     },
     "execution_count": 33,
     "metadata": {},
     "output_type": "execute_result"
    }
   ],
   "source": [
    "# Run the Monte Carlo simulation to forecast 30 years cumulative returns\n",
    "MC_retirement.calc_cumulative_return()\n"
   ]
  },
  {
   "cell_type": "code",
   "execution_count": 72,
   "metadata": {},
   "outputs": [
    {
     "data": {
      "image/png": "[encoded data removed]",
      "text/plain": [
       "<Figure size 432x288 with 1 Axes>"
      ]
     },
     "metadata": {
      "needs_background": "light"
     },
     "output_type": "display_data"
    }
   ],
   "source": [
    "# Visualize the 30-year Monte Carlo simulation by creating an\n",
    "# overlay line plot\n",
    "MC_retirement_line_plot = MC_retirement.plot_simulation()"
   ]
  },
  {
   "cell_type": "markdown",
   "metadata": {},
   "source": [
    "#### Step 3: Plot the probability distribution of the Monte Carlo simulation."
   ]
  },
  {
   "cell_type": "code",
   "execution_count": 63,
   "metadata": {},
   "outputs": [
    {
     "data": {
      "image/png": "[encoded data removed]",
      "text/plain": [
       "<Figure size 432x288 with 1 Axes>"
      ]
     },
     "metadata": {
      "needs_background": "light"
     },
     "output_type": "display_data"
    }
   ],
   "source": [
    "# Visualize the probability distribution of the 30-year Monte Carlo simulation \n",
    "# by plotting a histogram\n",
    "MC_retirement_dist_plot = MC_retirement.plot_distribution()\n"
   ]
  },
  {
   "cell_type": "markdown",
   "metadata": {},
   "source": [
    "#### Step 4: Generate the summary statistics for the Monte Carlo simulation."
   ]
  },
  {
   "cell_type": "code",
   "execution_count": 64,
   "metadata": {},
   "outputs": [
    {
     "data": {
      "text/plain": [
       "count           500.000000\n",
       "mean             55.264316\n",
       "std              52.988861\n",
       "min               2.979556\n",
       "25%              23.462045\n",
       "50%              40.339563\n",
       "75%              68.452959\n",
       "max             666.269574\n",
       "95% CI Lower      8.837726\n",
       "95% CI Upper    194.182673\n",
       "Name: 7560, dtype: float64"
      ]
     },
     "execution_count": 64,
     "metadata": {},
     "output_type": "execute_result"
    }
   ],
   "source": [
    "# Generate summary statistics from the 30-year Monte Carlo simulation results\n",
    "# Save the results as a variable\n",
    "summary_table = MC_retirement.summarize_cumulative_return()\n",
    "\n",
    "\n",
    "# Review the 30-year Monte Carlo summary statistics\n",
    "summary_table"
   ]
  },
  {
   "cell_type": "markdown",
   "metadata": {},
   "source": [
    "### Analyze the Retirement Portfolio Forecasts\n",
    "\n",
    "Using the current value of only the stock and bond portion of the member's portfolio and the summary statistics that you generated from the Monte Carlo simulation, answer the following question in your Jupyter notebook:\n",
    "\n",
    "-  What are the lower and upper bounds for the expected value of the portfolio with a 95% confidence interval?\n"
   ]
  },
  {
   "cell_type": "code",
   "execution_count": 65,
   "metadata": {},
   "outputs": [
    {
     "name": "stdout",
     "output_type": "stream",
     "text": [
      "Current Stocks and Bonds balance: $72936.8\n"
     ]
    }
   ],
   "source": [
    "# Print the current balance of the stock and bond portion of the members portfolio\n",
    "print(f\"Current Stocks and Bonds balance: ${total_stocks_bonds}\")\n"
   ]
  },
  {
   "cell_type": "code",
   "execution_count": 66,
   "metadata": {},
   "outputs": [
    {
     "name": "stdout",
     "output_type": "stream",
     "text": [
      "There is a 95% chance that the current stocks and bonds value of  $72936.8 in the portfolio with a 60/40 weight over the next 30 years will end within in the range of\n",
      " $ 644,595.47 and $ 14,163,062.80.\n"
     ]
    }
   ],
   "source": [
    "# Use the lower and upper `95%` confidence intervals to calculate the range of the possible outcomes for the current stock/bond portfolio\n",
    "ci_lower_thirty_cumulative_return = summary_table[8]\n",
    "ci_upper_thirty_cumulative_return = summary_table[9]\n",
    "\n",
    "# Print the result of your calculations\n",
    "print(f\"There is a 95% chance that the current stocks and bonds value of  ${total_stocks_bonds} in the portfolio\"\n",
    "      f\" with a 60/40 weight over the next 30 years will end within in the range of\\n\"\n",
    "      f\" ${(ci_lower_thirty_cumulative_return * total_stocks_bonds): ,.2f} and ${(ci_upper_thirty_cumulative_return * total_stocks_bonds): ,.2f}.\")\n"
   ]
  },
  {
   "cell_type": "markdown",
   "metadata": {},
   "source": [
    "### Forecast Cumulative Returns in 10 Years\n",
    "\n",
    "The CTO of the credit union is impressed with your work on these planning tools but wonders if 30 years is a long time to wait until retirement. So, your next task is to adjust the retirement portfolio and run a new Monte Carlo simulation to find out if the changes will allow members to retire earlier.\n",
    "\n",
    "For this new Monte Carlo simulation, do the following: \n",
    "\n",
    "- Forecast the cumulative returns for 10 years from now. Because of the shortened investment horizon (30 years to 10 years), the portfolio needs to invest more heavily in the riskier asset&mdash;that is, stock&mdash;to help accumulate wealth for retirement. \n",
    "\n",
    "- Adjust the weights of the retirement portfolio so that the composition for the Monte Carlo simulation consists of 20% bonds and 80% stocks. \n",
    "\n",
    "- Run the simulation over 500 samples, and use the same data that the API call to Alpaca generated.\n",
    "\n",
    "- Based on the new Monte Carlo simulation, answer the following questions in your Jupyter notebook:\n",
    "\n",
    "    - Using the current value of only the stock and bond portion of the member's portfolio and the summary statistics that you generated from the new Monte Carlo simulation, what are the lower and upper bounds for the expected value of the portfolio (with the new weights) with a 95% confidence interval?\n",
    "\n",
    "    - Will weighting the portfolio more heavily toward stocks allow the credit union members to retire after only 10 years?\n"
   ]
  },
  {
   "cell_type": "code",
   "execution_count": 67,
   "metadata": {},
   "outputs": [
    {
     "data": {
      "text/html": [
       "<div>\n",
       "<style scoped>\n",
       "    .dataframe tbody tr th:only-of-type {\n",
       "        vertical-align: middle;\n",
       "    }\n",
       "\n",
       "    .dataframe tbody tr th {\n",
       "        vertical-align: top;\n",
       "    }\n",
       "\n",
       "    .dataframe thead tr th {\n",
       "        text-align: left;\n",
       "    }\n",
       "\n",
       "    .dataframe thead tr:last-of-type th {\n",
       "        text-align: right;\n",
       "    }\n",
       "</style>\n",
       "<table border=\"1\" class=\"dataframe\">\n",
       "  <thead>\n",
       "    <tr>\n",
       "      <th></th>\n",
       "      <th colspan=\"6\" halign=\"left\">AGG</th>\n",
       "      <th colspan=\"6\" halign=\"left\">SPY</th>\n",
       "    </tr>\n",
       "    <tr>\n",
       "      <th></th>\n",
       "      <th>open</th>\n",
       "      <th>high</th>\n",
       "      <th>low</th>\n",
       "      <th>close</th>\n",
       "      <th>volume</th>\n",
       "      <th>daily_return</th>\n",
       "      <th>open</th>\n",
       "      <th>high</th>\n",
       "      <th>low</th>\n",
       "      <th>close</th>\n",
       "      <th>volume</th>\n",
       "      <th>daily_return</th>\n",
       "    </tr>\n",
       "    <tr>\n",
       "      <th>time</th>\n",
       "      <th></th>\n",
       "      <th></th>\n",
       "      <th></th>\n",
       "      <th></th>\n",
       "      <th></th>\n",
       "      <th></th>\n",
       "      <th></th>\n",
       "      <th></th>\n",
       "      <th></th>\n",
       "      <th></th>\n",
       "      <th></th>\n",
       "      <th></th>\n",
       "    </tr>\n",
       "  </thead>\n",
       "  <tbody>\n",
       "    <tr>\n",
       "      <th>2018-10-25 00:00:00-04:00</th>\n",
       "      <td>104.71</td>\n",
       "      <td>104.77</td>\n",
       "      <td>104.61</td>\n",
       "      <td>104.665</td>\n",
       "      <td>3882207.0</td>\n",
       "      <td>NaN</td>\n",
       "      <td>267.37</td>\n",
       "      <td>271.81</td>\n",
       "      <td>266.23</td>\n",
       "      <td>270.14</td>\n",
       "      <td>97215770</td>\n",
       "      <td>NaN</td>\n",
       "    </tr>\n",
       "    <tr>\n",
       "      <th>2018-10-26 00:00:00-04:00</th>\n",
       "      <td>104.88</td>\n",
       "      <td>105.05</td>\n",
       "      <td>104.87</td>\n",
       "      <td>104.915</td>\n",
       "      <td>4411985.0</td>\n",
       "      <td>0.002389</td>\n",
       "      <td>265.92</td>\n",
       "      <td>271.00</td>\n",
       "      <td>262.29</td>\n",
       "      <td>265.29</td>\n",
       "      <td>161147868</td>\n",
       "      <td>-0.017954</td>\n",
       "    </tr>\n",
       "    <tr>\n",
       "      <th>2018-10-29 00:00:00-04:00</th>\n",
       "      <td>104.86</td>\n",
       "      <td>104.89</td>\n",
       "      <td>104.72</td>\n",
       "      <td>104.790</td>\n",
       "      <td>3599179.0</td>\n",
       "      <td>-0.001191</td>\n",
       "      <td>268.78</td>\n",
       "      <td>270.25</td>\n",
       "      <td>259.85</td>\n",
       "      <td>263.80</td>\n",
       "      <td>120705901</td>\n",
       "      <td>-0.005616</td>\n",
       "    </tr>\n",
       "    <tr>\n",
       "      <th>2018-10-30 00:00:00-04:00</th>\n",
       "      <td>104.68</td>\n",
       "      <td>104.78</td>\n",
       "      <td>104.64</td>\n",
       "      <td>104.650</td>\n",
       "      <td>2246561.0</td>\n",
       "      <td>-0.001336</td>\n",
       "      <td>263.67</td>\n",
       "      <td>268.12</td>\n",
       "      <td>263.12</td>\n",
       "      <td>267.81</td>\n",
       "      <td>122643325</td>\n",
       "      <td>0.015201</td>\n",
       "    </tr>\n",
       "    <tr>\n",
       "      <th>2018-10-31 00:00:00-04:00</th>\n",
       "      <td>104.50</td>\n",
       "      <td>104.70</td>\n",
       "      <td>104.50</td>\n",
       "      <td>104.580</td>\n",
       "      <td>11670445.0</td>\n",
       "      <td>-0.000669</td>\n",
       "      <td>270.65</td>\n",
       "      <td>273.23</td>\n",
       "      <td>270.12</td>\n",
       "      <td>270.69</td>\n",
       "      <td>97427146</td>\n",
       "      <td>0.010754</td>\n",
       "    </tr>\n",
       "  </tbody>\n",
       "</table>\n",
       "</div>"
      ],
      "text/plain": [
       "                              AGG                                       \\\n",
       "                             open    high     low    close      volume   \n",
       "time                                                                     \n",
       "2018-10-25 00:00:00-04:00  104.71  104.77  104.61  104.665   3882207.0   \n",
       "2018-10-26 00:00:00-04:00  104.88  105.05  104.87  104.915   4411985.0   \n",
       "2018-10-29 00:00:00-04:00  104.86  104.89  104.72  104.790   3599179.0   \n",
       "2018-10-30 00:00:00-04:00  104.68  104.78  104.64  104.650   2246561.0   \n",
       "2018-10-31 00:00:00-04:00  104.50  104.70  104.50  104.580  11670445.0   \n",
       "\n",
       "                                           SPY                          \\\n",
       "                          daily_return    open    high     low   close   \n",
       "time                                                                     \n",
       "2018-10-25 00:00:00-04:00          NaN  267.37  271.81  266.23  270.14   \n",
       "2018-10-26 00:00:00-04:00     0.002389  265.92  271.00  262.29  265.29   \n",
       "2018-10-29 00:00:00-04:00    -0.001191  268.78  270.25  259.85  263.80   \n",
       "2018-10-30 00:00:00-04:00    -0.001336  263.67  268.12  263.12  267.81   \n",
       "2018-10-31 00:00:00-04:00    -0.000669  270.65  273.23  270.12  270.69   \n",
       "\n",
       "                                                   \n",
       "                              volume daily_return  \n",
       "time                                               \n",
       "2018-10-25 00:00:00-04:00   97215770          NaN  \n",
       "2018-10-26 00:00:00-04:00  161147868    -0.017954  \n",
       "2018-10-29 00:00:00-04:00  120705901    -0.005616  \n",
       "2018-10-30 00:00:00-04:00  122643325     0.015201  \n",
       "2018-10-31 00:00:00-04:00   97427146     0.010754  "
      ]
     },
     "execution_count": 67,
     "metadata": {},
     "output_type": "execute_result"
    }
   ],
   "source": [
    "# Configure a Monte Carlo simulation to forecast 10 years cumulative returns\n",
    "# The weights should be split 20% to AGG and 80% to SPY.\n",
    "# Run 500 samples.\n",
    "MC_retirement_early = MCSimulation(portfolio_data = prices_df,\n",
    "                            weights = [0.20, 0.80],\n",
    "                            num_simulation = 500,\n",
    "                            num_trading_days = 252*10)\n",
    "\n",
    "# Review the simulation input data\n",
    "MC_retirement_early.portfolio_data.head()"
   ]
  },
  {
   "cell_type": "code",
   "execution_count": 47,
   "metadata": {},
   "outputs": [
    {
     "name": "stdout",
     "output_type": "stream",
     "text": [
      "Running Monte Carlo simulation number 0.\n",
      "Running Monte Carlo simulation number 10.\n",
      "Running Monte Carlo simulation number 20.\n",
      "Running Monte Carlo simulation number 30.\n",
      "Running Monte Carlo simulation number 40.\n",
      "Running Monte Carlo simulation number 50.\n",
      "Running Monte Carlo simulation number 60.\n",
      "Running Monte Carlo simulation number 70.\n",
      "Running Monte Carlo simulation number 80.\n",
      "Running Monte Carlo simulation number 90.\n",
      "Running Monte Carlo simulation number 100.\n",
      "Running Monte Carlo simulation number 110.\n",
      "Running Monte Carlo simulation number 120.\n",
      "Running Monte Carlo simulation number 130.\n",
      "Running Monte Carlo simulation number 140.\n",
      "Running Monte Carlo simulation number 150.\n",
      "Running Monte Carlo simulation number 160.\n",
      "Running Monte Carlo simulation number 170.\n",
      "Running Monte Carlo simulation number 180.\n",
      "Running Monte Carlo simulation number 190.\n",
      "Running Monte Carlo simulation number 200.\n",
      "Running Monte Carlo simulation number 210.\n",
      "Running Monte Carlo simulation number 220.\n",
      "Running Monte Carlo simulation number 230.\n",
      "Running Monte Carlo simulation number 240.\n",
      "Running Monte Carlo simulation number 250.\n",
      "Running Monte Carlo simulation number 260.\n",
      "Running Monte Carlo simulation number 270.\n",
      "Running Monte Carlo simulation number 280.\n",
      "Running Monte Carlo simulation number 290.\n",
      "Running Monte Carlo simulation number 300.\n",
      "Running Monte Carlo simulation number 310.\n",
      "Running Monte Carlo simulation number 320.\n",
      "Running Monte Carlo simulation number 330.\n",
      "Running Monte Carlo simulation number 340.\n",
      "Running Monte Carlo simulation number 350.\n",
      "Running Monte Carlo simulation number 360.\n",
      "Running Monte Carlo simulation number 370.\n",
      "Running Monte Carlo simulation number 380.\n",
      "Running Monte Carlo simulation number 390.\n",
      "Running Monte Carlo simulation number 400.\n",
      "Running Monte Carlo simulation number 410.\n",
      "Running Monte Carlo simulation number 420.\n",
      "Running Monte Carlo simulation number 430.\n",
      "Running Monte Carlo simulation number 440.\n",
      "Running Monte Carlo simulation number 450.\n",
      "Running Monte Carlo simulation number 460.\n",
      "Running Monte Carlo simulation number 470.\n",
      "Running Monte Carlo simulation number 480.\n",
      "Running Monte Carlo simulation number 490.\n"
     ]
    },
    {
     "data": {
      "text/html": [
       "<div>\n",
       "<style scoped>\n",
       "    .dataframe tbody tr th:only-of-type {\n",
       "        vertical-align: middle;\n",
       "    }\n",
       "\n",
       "    .dataframe tbody tr th {\n",
       "        vertical-align: top;\n",
       "    }\n",
       "\n",
       "    .dataframe thead th {\n",
       "        text-align: right;\n",
       "    }\n",
       "</style>\n",
       "<table border=\"1\" class=\"dataframe\">\n",
       "  <thead>\n",
       "    <tr style=\"text-align: right;\">\n",
       "      <th></th>\n",
       "      <th>0</th>\n",
       "      <th>1</th>\n",
       "      <th>2</th>\n",
       "      <th>3</th>\n",
       "      <th>4</th>\n",
       "      <th>5</th>\n",
       "      <th>6</th>\n",
       "      <th>7</th>\n",
       "      <th>8</th>\n",
       "      <th>9</th>\n",
       "      <th>...</th>\n",
       "      <th>490</th>\n",
       "      <th>491</th>\n",
       "      <th>492</th>\n",
       "      <th>493</th>\n",
       "      <th>494</th>\n",
       "      <th>495</th>\n",
       "      <th>496</th>\n",
       "      <th>497</th>\n",
       "      <th>498</th>\n",
       "      <th>499</th>\n",
       "    </tr>\n",
       "  </thead>\n",
       "  <tbody>\n",
       "    <tr>\n",
       "      <th>0</th>\n",
       "      <td>1.000000</td>\n",
       "      <td>1.000000</td>\n",
       "      <td>1.000000</td>\n",
       "      <td>1.000000</td>\n",
       "      <td>1.000000</td>\n",
       "      <td>1.000000</td>\n",
       "      <td>1.000000</td>\n",
       "      <td>1.000000</td>\n",
       "      <td>1.000000</td>\n",
       "      <td>1.000000</td>\n",
       "      <td>...</td>\n",
       "      <td>1.000000</td>\n",
       "      <td>1.000000</td>\n",
       "      <td>1.000000</td>\n",
       "      <td>1.000000</td>\n",
       "      <td>1.000000</td>\n",
       "      <td>1.000000</td>\n",
       "      <td>1.000000</td>\n",
       "      <td>1.000000</td>\n",
       "      <td>1.000000</td>\n",
       "      <td>1.000000</td>\n",
       "    </tr>\n",
       "    <tr>\n",
       "      <th>1</th>\n",
       "      <td>1.013230</td>\n",
       "      <td>1.018512</td>\n",
       "      <td>1.004792</td>\n",
       "      <td>1.015880</td>\n",
       "      <td>1.004586</td>\n",
       "      <td>1.001158</td>\n",
       "      <td>1.011357</td>\n",
       "      <td>1.004485</td>\n",
       "      <td>0.989059</td>\n",
       "      <td>1.011496</td>\n",
       "      <td>...</td>\n",
       "      <td>1.008413</td>\n",
       "      <td>1.021249</td>\n",
       "      <td>0.994569</td>\n",
       "      <td>0.998918</td>\n",
       "      <td>1.012754</td>\n",
       "      <td>0.993304</td>\n",
       "      <td>0.985998</td>\n",
       "      <td>0.981486</td>\n",
       "      <td>1.013453</td>\n",
       "      <td>1.001743</td>\n",
       "    </tr>\n",
       "    <tr>\n",
       "      <th>2</th>\n",
       "      <td>1.010447</td>\n",
       "      <td>1.018143</td>\n",
       "      <td>1.008401</td>\n",
       "      <td>1.020498</td>\n",
       "      <td>1.025158</td>\n",
       "      <td>1.012099</td>\n",
       "      <td>0.990063</td>\n",
       "      <td>0.992749</td>\n",
       "      <td>0.992368</td>\n",
       "      <td>1.020187</td>\n",
       "      <td>...</td>\n",
       "      <td>1.008635</td>\n",
       "      <td>1.027057</td>\n",
       "      <td>0.990976</td>\n",
       "      <td>0.991024</td>\n",
       "      <td>1.022184</td>\n",
       "      <td>0.986953</td>\n",
       "      <td>0.976584</td>\n",
       "      <td>0.992305</td>\n",
       "      <td>1.013823</td>\n",
       "      <td>1.023470</td>\n",
       "    </tr>\n",
       "    <tr>\n",
       "      <th>3</th>\n",
       "      <td>0.993274</td>\n",
       "      <td>1.008450</td>\n",
       "      <td>1.021170</td>\n",
       "      <td>1.007676</td>\n",
       "      <td>1.011180</td>\n",
       "      <td>1.022824</td>\n",
       "      <td>0.994546</td>\n",
       "      <td>0.986542</td>\n",
       "      <td>0.997961</td>\n",
       "      <td>1.001377</td>\n",
       "      <td>...</td>\n",
       "      <td>1.007990</td>\n",
       "      <td>1.011869</td>\n",
       "      <td>0.990458</td>\n",
       "      <td>0.964507</td>\n",
       "      <td>1.022648</td>\n",
       "      <td>0.986794</td>\n",
       "      <td>0.976823</td>\n",
       "      <td>0.985473</td>\n",
       "      <td>1.009199</td>\n",
       "      <td>1.029926</td>\n",
       "    </tr>\n",
       "    <tr>\n",
       "      <th>4</th>\n",
       "      <td>0.996396</td>\n",
       "      <td>1.003755</td>\n",
       "      <td>1.016608</td>\n",
       "      <td>1.017868</td>\n",
       "      <td>1.015446</td>\n",
       "      <td>1.014498</td>\n",
       "      <td>0.973030</td>\n",
       "      <td>0.993672</td>\n",
       "      <td>1.002560</td>\n",
       "      <td>0.991854</td>\n",
       "      <td>...</td>\n",
       "      <td>1.013431</td>\n",
       "      <td>1.010828</td>\n",
       "      <td>0.989764</td>\n",
       "      <td>0.961362</td>\n",
       "      <td>1.002350</td>\n",
       "      <td>0.989461</td>\n",
       "      <td>0.994865</td>\n",
       "      <td>0.997481</td>\n",
       "      <td>1.009207</td>\n",
       "      <td>1.035453</td>\n",
       "    </tr>\n",
       "    <tr>\n",
       "      <th>...</th>\n",
       "      <td>...</td>\n",
       "      <td>...</td>\n",
       "      <td>...</td>\n",
       "      <td>...</td>\n",
       "      <td>...</td>\n",
       "      <td>...</td>\n",
       "      <td>...</td>\n",
       "      <td>...</td>\n",
       "      <td>...</td>\n",
       "      <td>...</td>\n",
       "      <td>...</td>\n",
       "      <td>...</td>\n",
       "      <td>...</td>\n",
       "      <td>...</td>\n",
       "      <td>...</td>\n",
       "      <td>...</td>\n",
       "      <td>...</td>\n",
       "      <td>...</td>\n",
       "      <td>...</td>\n",
       "      <td>...</td>\n",
       "      <td>...</td>\n",
       "    </tr>\n",
       "    <tr>\n",
       "      <th>2516</th>\n",
       "      <td>3.617764</td>\n",
       "      <td>3.140660</td>\n",
       "      <td>5.364868</td>\n",
       "      <td>5.454781</td>\n",
       "      <td>1.584229</td>\n",
       "      <td>6.489522</td>\n",
       "      <td>4.190945</td>\n",
       "      <td>8.809724</td>\n",
       "      <td>3.117836</td>\n",
       "      <td>3.684493</td>\n",
       "      <td>...</td>\n",
       "      <td>2.326737</td>\n",
       "      <td>3.771081</td>\n",
       "      <td>4.263400</td>\n",
       "      <td>6.283781</td>\n",
       "      <td>3.813557</td>\n",
       "      <td>21.318173</td>\n",
       "      <td>5.562512</td>\n",
       "      <td>4.542015</td>\n",
       "      <td>3.957534</td>\n",
       "      <td>4.354425</td>\n",
       "    </tr>\n",
       "    <tr>\n",
       "      <th>2517</th>\n",
       "      <td>3.581773</td>\n",
       "      <td>3.154865</td>\n",
       "      <td>5.257691</td>\n",
       "      <td>5.333178</td>\n",
       "      <td>1.556869</td>\n",
       "      <td>6.440793</td>\n",
       "      <td>4.191220</td>\n",
       "      <td>8.727674</td>\n",
       "      <td>3.128462</td>\n",
       "      <td>3.682171</td>\n",
       "      <td>...</td>\n",
       "      <td>2.357167</td>\n",
       "      <td>3.778296</td>\n",
       "      <td>4.336462</td>\n",
       "      <td>6.333489</td>\n",
       "      <td>3.770746</td>\n",
       "      <td>21.594513</td>\n",
       "      <td>5.697286</td>\n",
       "      <td>4.541301</td>\n",
       "      <td>4.007331</td>\n",
       "      <td>4.299387</td>\n",
       "    </tr>\n",
       "    <tr>\n",
       "      <th>2518</th>\n",
       "      <td>3.519935</td>\n",
       "      <td>3.117350</td>\n",
       "      <td>5.163415</td>\n",
       "      <td>5.325700</td>\n",
       "      <td>1.574057</td>\n",
       "      <td>6.368308</td>\n",
       "      <td>4.265772</td>\n",
       "      <td>8.883283</td>\n",
       "      <td>3.128269</td>\n",
       "      <td>3.699212</td>\n",
       "      <td>...</td>\n",
       "      <td>2.385679</td>\n",
       "      <td>3.790690</td>\n",
       "      <td>4.353777</td>\n",
       "      <td>6.428731</td>\n",
       "      <td>3.854817</td>\n",
       "      <td>21.908879</td>\n",
       "      <td>5.645142</td>\n",
       "      <td>4.559338</td>\n",
       "      <td>3.937890</td>\n",
       "      <td>4.313043</td>\n",
       "    </tr>\n",
       "    <tr>\n",
       "      <th>2519</th>\n",
       "      <td>3.503709</td>\n",
       "      <td>3.106494</td>\n",
       "      <td>5.153421</td>\n",
       "      <td>5.224857</td>\n",
       "      <td>1.560968</td>\n",
       "      <td>6.342823</td>\n",
       "      <td>4.319436</td>\n",
       "      <td>8.871311</td>\n",
       "      <td>3.145700</td>\n",
       "      <td>3.634568</td>\n",
       "      <td>...</td>\n",
       "      <td>2.376437</td>\n",
       "      <td>3.760728</td>\n",
       "      <td>4.397130</td>\n",
       "      <td>6.413865</td>\n",
       "      <td>3.859454</td>\n",
       "      <td>21.885058</td>\n",
       "      <td>5.515928</td>\n",
       "      <td>4.521017</td>\n",
       "      <td>3.993109</td>\n",
       "      <td>4.279571</td>\n",
       "    </tr>\n",
       "    <tr>\n",
       "      <th>2520</th>\n",
       "      <td>3.488083</td>\n",
       "      <td>3.113379</td>\n",
       "      <td>5.107832</td>\n",
       "      <td>5.227628</td>\n",
       "      <td>1.550106</td>\n",
       "      <td>6.228560</td>\n",
       "      <td>4.315209</td>\n",
       "      <td>8.699572</td>\n",
       "      <td>3.128481</td>\n",
       "      <td>3.706701</td>\n",
       "      <td>...</td>\n",
       "      <td>2.364183</td>\n",
       "      <td>3.727147</td>\n",
       "      <td>4.422057</td>\n",
       "      <td>6.510997</td>\n",
       "      <td>3.803750</td>\n",
       "      <td>21.843151</td>\n",
       "      <td>5.480673</td>\n",
       "      <td>4.555861</td>\n",
       "      <td>4.014119</td>\n",
       "      <td>4.327774</td>\n",
       "    </tr>\n",
       "  </tbody>\n",
       "</table>\n",
       "<p>2521 rows × 500 columns</p>\n",
       "</div>"
      ],
      "text/plain": [
       "           0         1         2         3         4         5         6    \\\n",
       "0     1.000000  1.000000  1.000000  1.000000  1.000000  1.000000  1.000000   \n",
       "1     1.013230  1.018512  1.004792  1.015880  1.004586  1.001158  1.011357   \n",
       "2     1.010447  1.018143  1.008401  1.020498  1.025158  1.012099  0.990063   \n",
       "3     0.993274  1.008450  1.021170  1.007676  1.011180  1.022824  0.994546   \n",
       "4     0.996396  1.003755  1.016608  1.017868  1.015446  1.014498  0.973030   \n",
       "...        ...       ...       ...       ...       ...       ...       ...   \n",
       "2516  3.617764  3.140660  5.364868  5.454781  1.584229  6.489522  4.190945   \n",
       "2517  3.581773  3.154865  5.257691  5.333178  1.556869  6.440793  4.191220   \n",
       "2518  3.519935  3.117350  5.163415  5.325700  1.574057  6.368308  4.265772   \n",
       "2519  3.503709  3.106494  5.153421  5.224857  1.560968  6.342823  4.319436   \n",
       "2520  3.488083  3.113379  5.107832  5.227628  1.550106  6.228560  4.315209   \n",
       "\n",
       "           7         8         9    ...       490       491       492  \\\n",
       "0     1.000000  1.000000  1.000000  ...  1.000000  1.000000  1.000000   \n",
       "1     1.004485  0.989059  1.011496  ...  1.008413  1.021249  0.994569   \n",
       "2     0.992749  0.992368  1.020187  ...  1.008635  1.027057  0.990976   \n",
       "3     0.986542  0.997961  1.001377  ...  1.007990  1.011869  0.990458   \n",
       "4     0.993672  1.002560  0.991854  ...  1.013431  1.010828  0.989764   \n",
       "...        ...       ...       ...  ...       ...       ...       ...   \n",
       "2516  8.809724  3.117836  3.684493  ...  2.326737  3.771081  4.263400   \n",
       "2517  8.727674  3.128462  3.682171  ...  2.357167  3.778296  4.336462   \n",
       "2518  8.883283  3.128269  3.699212  ...  2.385679  3.790690  4.353777   \n",
       "2519  8.871311  3.145700  3.634568  ...  2.376437  3.760728  4.397130   \n",
       "2520  8.699572  3.128481  3.706701  ...  2.364183  3.727147  4.422057   \n",
       "\n",
       "           493       494        495       496       497       498       499  \n",
       "0     1.000000  1.000000   1.000000  1.000000  1.000000  1.000000  1.000000  \n",
       "1     0.998918  1.012754   0.993304  0.985998  0.981486  1.013453  1.001743  \n",
       "2     0.991024  1.022184   0.986953  0.976584  0.992305  1.013823  1.023470  \n",
       "3     0.964507  1.022648   0.986794  0.976823  0.985473  1.009199  1.029926  \n",
       "4     0.961362  1.002350   0.989461  0.994865  0.997481  1.009207  1.035453  \n",
       "...        ...       ...        ...       ...       ...       ...       ...  \n",
       "2516  6.283781  3.813557  21.318173  5.562512  4.542015  3.957534  4.354425  \n",
       "2517  6.333489  3.770746  21.594513  5.697286  4.541301  4.007331  4.299387  \n",
       "2518  6.428731  3.854817  21.908879  5.645142  4.559338  3.937890  4.313043  \n",
       "2519  6.413865  3.859454  21.885058  5.515928  4.521017  3.993109  4.279571  \n",
       "2520  6.510997  3.803750  21.843151  5.480673  4.555861  4.014119  4.327774  \n",
       "\n",
       "[2521 rows x 500 columns]"
      ]
     },
     "execution_count": 47,
     "metadata": {},
     "output_type": "execute_result"
    }
   ],
   "source": [
    "# Run the Monte Carlo simulation to forecast 10 years cumulative returns\n",
    "MC_retirement_early.calc_cumulative_return()\n"
   ]
  },
  {
   "cell_type": "code",
   "execution_count": 48,
   "metadata": {},
   "outputs": [
    {
     "data": {
      "image/png": "[encoded data removed]",
      "text/plain": [
       "<Figure size 432x288 with 1 Axes>"
      ]
     },
     "metadata": {
      "needs_background": "light"
     },
     "output_type": "display_data"
    }
   ],
   "source": [
    "# Visualize the 10-year Monte Carlo simulation by creating an\n",
    "# overlay line plot\n",
    "MC_retirement_line_plot_early = MC_retirement_early.plot_simulation() \n"
   ]
  },
  {
   "cell_type": "code",
   "execution_count": 49,
   "metadata": {},
   "outputs": [
    {
     "data": {
      "image/png": "[encoded data removed]",
      "text/plain": [
       "<Figure size 432x288 with 1 Axes>"
      ]
     },
     "metadata": {
      "needs_background": "light"
     },
     "output_type": "display_data"
    }
   ],
   "source": [
    "# Visualize the probability distribution of the 10-year Monte Carlo simulation \n",
    "# by plotting a histogram\n",
    "MC_retirement_dist_plot_early = MC_retirement_early.plot_distribution() \n"
   ]
  },
  {
   "cell_type": "code",
   "execution_count": 51,
   "metadata": {},
   "outputs": [
    {
     "data": {
      "text/plain": [
       "count           500.000000\n",
       "mean              5.400484\n",
       "std               3.895514\n",
       "min               0.475118\n",
       "25%               3.040070\n",
       "50%               4.479889\n",
       "75%               6.439628\n",
       "max              40.733395\n",
       "95% CI Lower      1.367844\n",
       "95% CI Upper     15.345731\n",
       "Name: 2520, dtype: float64"
      ]
     },
     "execution_count": 51,
     "metadata": {},
     "output_type": "execute_result"
    }
   ],
   "source": [
    "# Generate summary statistics from the 10-year Monte Carlo simulation results\n",
    "# Save the results as a variable\n",
    "summary_early_table = MC_retirement_early.summarize_cumulative_return()\n",
    "\n",
    "\n",
    "# Review the 10-year Monte Carlo summary statistics\n",
    "summary_early_table"
   ]
  },
  {
   "cell_type": "markdown",
   "metadata": {},
   "source": [
    "### Answer the following questions:"
   ]
  },
  {
   "cell_type": "markdown",
   "metadata": {},
   "source": [
    "#### Question: Using the current value of only the stock and bond portion of the member's portfolio and the summary statistics that you generated from the new Monte Carlo simulation, what are the lower and upper bounds for the expected value of the portfolio (with the new weights) with a 95% confidence interval?"
   ]
  },
  {
   "cell_type": "code",
   "execution_count": 52,
   "metadata": {},
   "outputs": [
    {
     "name": "stdout",
     "output_type": "stream",
     "text": [
      "Current Stocks and Bonds balance: $72936.8\n"
     ]
    }
   ],
   "source": [
    "# Print the current balance of the stock and bond portion of the members portfolio\n",
    "print(f\"Current Stocks and Bonds balance: ${total_stocks_bonds}\")\n"
   ]
  },
  {
   "cell_type": "code",
   "execution_count": 56,
   "metadata": {},
   "outputs": [
    {
     "name": "stdout",
     "output_type": "stream",
     "text": [
      "There is a 95% chance that the current stocks and bonds value of  $72936.8 in the portfolio with a 80/20 weight over the next 10 years will end within in the range of\n",
      " $ 99,766.16 and $ 1,119,268.49.\n"
     ]
    }
   ],
   "source": [
    "# Use the lower and upper `95%` confidence intervals to calculate the range of the possible outcomes for the current stock/bond portfolio\n",
    "ci_lower_ten_cumulative_return = summary_early_table[8]\n",
    "ci_upper_ten_cumulative_return = summary_early_table[9]\n",
    "\n",
    "# Print the result of your calculations\n",
    "print(f\"There is a 95% chance that the current stocks and bonds value of  ${total_stocks_bonds} in the portfolio\"\n",
    "      f\" with a 80/20 weight over the next 10 years will end within in the range of\\n\"\n",
    "      f\" ${(ci_lower_ten_cumulative_return * total_stocks_bonds): ,.2f} and ${(ci_upper_ten_cumulative_return * total_stocks_bonds): ,.2f}.\")\n"
   ]
  },
  {
   "cell_type": "markdown",
   "metadata": {},
   "source": [
    "#### Question: Will weighting the portfolio more heavily to stocks allow the credit union members to retire after only 10 years?"
   ]
  },
  {
   "cell_type": "raw",
   "metadata": {},
   "source": [
    "**Answer** Even afteven after weighing the portfolio more heavily on stocks, the 95% confidence interval evaluation shows that it is not prudent to retire after 10 years as both the lower and the upper limits are significantly lower than the corresponding limits for 30 years. If you just consider the lower limits, which is $99,766 for 10 years, it is about 85% less than the lower limit for 30 years. Also if we consider in terms of monthly salary, it covers only about 8 months of salary which is not enough to retire. "
   ]
  },
  {
   "cell_type": "code",
   "execution_count": null,
   "metadata": {},
   "outputs": [],
   "source": []
  }
 ],
 "metadata": {
  "kernelspec": {
   "display_name": "dev",
   "language": "python",
   "name": "dev"
  },
  "language_info": {
   "codemirror_mode": {
    "name": "ipython",
    "version": 3
   },
   "file_extension": ".py",
   "mimetype": "text/x-python",
   "name": "python",
   "nbconvert_exporter": "python",
   "pygments_lexer": "ipython3",
   "version": "3.7.10"
  }
 },
 "nbformat": 4,
 "nbformat_minor": 4
}
